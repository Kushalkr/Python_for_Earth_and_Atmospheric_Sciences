{
 "cells": [
  {
   "cell_type": "markdown",
   "metadata": {},
   "source": [
    "# Timeseries Analysis using Pandas\n",
    "-------------------------------------------------------------------\n",
    "\n",
    "Kushal Keshavamurthy Raviprakash\n",
    "\n",
    "kushalkr2992@gmail.com\n",
    "\n",
    "This notebook is a part of the [Python for Earth and Atmospheric Sciences](https://github.com/Kushalkr/Python_for_Earth_and_Atmospheric_Sciences) workshop."
   ]
  },
  {
   "cell_type": "code",
   "execution_count": 1,
   "metadata": {
    "collapsed": true
   },
   "outputs": [],
   "source": [
    "%matplotlib inline"
   ]
  },
  {
   "cell_type": "markdown",
   "metadata": {},
   "source": [
    "## Introduction\n",
    "-------------------------------------------------------------------"
   ]
  },
  {
   "cell_type": "markdown",
   "metadata": {},
   "source": [
    "<img src=\"images/pandas.png\" style=\"float: right\" />**`Pandas`** is a python package which provides fast, flexible and expressive data structures and is a package designed to make working with \"relational\" or \"labelled\" data easy and intuitive.\n",
    "\n",
    "I find pandas very useful for timeseries analysis.\n",
    "\n",
    "The pandas package is generally imported as :\n",
    "\n",
    "```py\n",
    "import pandas as pd\n",
    "```"
   ]
  },
  {
   "cell_type": "markdown",
   "metadata": {},
   "source": [
    "The most common data structures in `pandas` are:\n",
    "* `Series` (1-Dimensional, labeled, homogeneous array)\n",
    "* `DataFrame` (2-Dimensional, labeled with potentially heterogenous columns)\n",
    "* `Panel` (3-Dimensional, size mutable array) [**DEPRECATED** and will be removed in the future]\n",
    "\n",
    "In this lecture, we will look at the `Series` and `DataFrame` data structures in some detail."
   ]
  },
  {
   "cell_type": "markdown",
   "metadata": {},
   "source": [
    "Let us first import the necessary packages."
   ]
  },
  {
   "cell_type": "code",
   "execution_count": 2,
   "metadata": {},
   "outputs": [
    {
     "data": {
      "text/plain": [
       "'0.20.2'"
      ]
     },
     "execution_count": 2,
     "metadata": {},
     "output_type": "execute_result"
    }
   ],
   "source": [
    "# Import necessary packages\n",
    "\n",
    "import numpy as np\n",
    "import matplotlib.pyplot as plt\n",
    "import pandas as pd\n",
    "\n",
    "pd.__version__"
   ]
  },
  {
   "cell_type": "markdown",
   "metadata": {},
   "source": [
    "We will use the [Arctic Oscillation (AO)](http://en.wikipedia.org/wiki/Arctic_oscillation) and [North Atlantic Oscillation (NAO)](http://en.wikipedia.org/wiki/North_Atlantic_oscillation) datasets as an example.\n",
    "\n",
    "You can get the data from [here](http://www.cpc.ncep.noaa.gov/products/precip/CWlink/daily_ao_index/monthly.ao.index.b50.current.ascii). But, as a sample, you will find it being present in the `data/` directory of my repository already."
   ]
  },
  {
   "cell_type": "markdown",
   "metadata": {},
   "source": [
    "`pandas` has some very good I/O facilities. But, for now we will stick to what we have learnt so far."
   ]
  },
  {
   "cell_type": "markdown",
   "metadata": {},
   "source": [
    "## Loading Data\n",
    "-------------------------------------------------------------------"
   ]
  },
  {
   "cell_type": "code",
   "execution_count": 3,
   "metadata": {
    "scrolled": true
   },
   "outputs": [
    {
     "name": "stdout",
     "output_type": "stream",
     "text": [
      "[[  1.95000000e+03   1.00000000e+00  -6.03100000e-02]\n",
      " [  1.95000000e+03   2.00000000e+00   6.26810000e-01]]\n"
     ]
    }
   ],
   "source": [
    "ao = np.loadtxt('data/monthly.ao.index.b50.current.ascii')\n",
    "print(ao[0:2])"
   ]
  },
  {
   "cell_type": "markdown",
   "metadata": {},
   "source": [
    "The data has three columns: year, month and the AO index value."
   ]
  },
  {
   "cell_type": "markdown",
   "metadata": {},
   "source": [
    "## Timeseries\n",
    "-------------------------------------------------------------------\n",
    "\n",
    "Timeseries of a single variable are usually put into the `Series` data structure provided by `pandas`.\n",
    "\n",
    "To create a timeseries, we need to first create a time range for which we have the data and later use it to index the data. This is done with the help of the `date_range` function defined in the `pandas` module.\n",
    "\n",
    "The data we have loaded ranges from January-1950 until May-2017. You may have to change the range if you obtain a newer version of the data. We use `freq = 'M'` which means the data is available every month."
   ]
  },
  {
   "cell_type": "code",
   "execution_count": 4,
   "metadata": {},
   "outputs": [
    {
     "data": {
      "text/plain": [
       "DatetimeIndex(['1950-01-31', '1950-02-28', '1950-03-31', '1950-04-30',\n",
       "               '1950-05-31', '1950-06-30', '1950-07-31', '1950-08-31',\n",
       "               '1950-09-30', '1950-10-31',\n",
       "               ...\n",
       "               '2016-03-31', '2016-04-30', '2016-05-31', '2016-06-30',\n",
       "               '2016-07-31', '2016-08-31', '2016-09-30', '2016-10-31',\n",
       "               '2016-11-30', '2016-12-31'],\n",
       "              dtype='datetime64[ns]', length=804, freq='M')"
      ]
     },
     "execution_count": 4,
     "metadata": {},
     "output_type": "execute_result"
    }
   ],
   "source": [
    "dates = pd.date_range('1950-01','2017-01', freq='M') # Actual data is until 2017-06\n",
    "dates"
   ]
  },
  {
   "cell_type": "code",
   "execution_count": 5,
   "metadata": {},
   "outputs": [
    {
     "data": {
      "text/plain": [
       "(804,)"
      ]
     },
     "execution_count": 5,
     "metadata": {},
     "output_type": "execute_result"
    }
   ],
   "source": [
    "dates.shape"
   ]
  },
  {
   "cell_type": "markdown",
   "metadata": {},
   "source": [
    "We will use the data only until Dec-2016."
   ]
  },
  {
   "cell_type": "code",
   "execution_count": 6,
   "metadata": {},
   "outputs": [
    {
     "data": {
      "text/plain": [
       "1950-01-31   -0.060310\n",
       "1950-02-28    0.626810\n",
       "1950-03-31   -0.008127\n",
       "1950-04-30    0.555100\n",
       "1950-05-31    0.071577\n",
       "1950-06-30    0.538570\n",
       "1950-07-31   -0.802480\n",
       "1950-08-31   -0.851010\n",
       "1950-09-30    0.357970\n",
       "1950-10-31   -0.378900\n",
       "1950-11-30   -0.515110\n",
       "1950-12-31   -1.928100\n",
       "1951-01-31   -0.084969\n",
       "1951-02-28   -0.399930\n",
       "1951-03-31   -1.934100\n",
       "1951-04-30   -0.776480\n",
       "1951-05-31   -0.862780\n",
       "1951-06-30   -0.917860\n",
       "1951-07-31    0.090023\n",
       "1951-08-31   -0.377410\n",
       "1951-09-30   -0.817780\n",
       "1951-10-31   -0.212910\n",
       "1951-11-30   -0.068519\n",
       "1951-12-31    1.987200\n",
       "1952-01-31    0.368250\n",
       "1952-02-29   -1.747200\n",
       "1952-03-31   -1.859500\n",
       "1952-04-30    0.538520\n",
       "1952-05-31   -0.773510\n",
       "1952-06-30   -0.440930\n",
       "                ...   \n",
       "2014-07-31   -0.488940\n",
       "2014-08-31   -0.371540\n",
       "2014-09-30    0.101910\n",
       "2014-10-31   -1.134400\n",
       "2014-11-30   -0.530300\n",
       "2014-12-31    0.412920\n",
       "2015-01-31    1.091600\n",
       "2015-02-28    1.042600\n",
       "2015-03-31    1.837400\n",
       "2015-04-30    1.215700\n",
       "2015-05-31    0.762760\n",
       "2015-06-30    0.427040\n",
       "2015-07-31   -1.107900\n",
       "2015-08-31   -0.689020\n",
       "2015-09-30   -0.164510\n",
       "2015-10-31   -0.250060\n",
       "2015-11-30    1.945000\n",
       "2015-12-31    1.444100\n",
       "2016-01-31   -1.448700\n",
       "2016-02-29   -0.023521\n",
       "2016-03-31    0.280240\n",
       "2016-04-30   -1.051100\n",
       "2016-05-31   -0.035739\n",
       "2016-06-30    0.312880\n",
       "2016-07-31    0.084758\n",
       "2016-08-31    0.472380\n",
       "2016-09-30    0.780970\n",
       "2016-10-31   -1.917300\n",
       "2016-11-30   -0.610910\n",
       "2016-12-31    1.786400\n",
       "Freq: M, Length: 804, dtype: float64"
      ]
     },
     "execution_count": 6,
     "metadata": {},
     "output_type": "execute_result"
    }
   ],
   "source": [
    "AO = pd.Series(ao[:804,2], index=dates)\n",
    "AO"
   ]
  },
  {
   "cell_type": "markdown",
   "metadata": {},
   "source": [
    "Let's see how the data looks."
   ]
  },
  {
   "cell_type": "code",
   "execution_count": 7,
   "metadata": {},
   "outputs": [
    {
     "data": {
      "text/plain": [
       "<matplotlib.axes._subplots.AxesSubplot at 0x1128e4908>"
      ]
     },
     "execution_count": 7,
     "metadata": {},
     "output_type": "execute_result"
    },
    {
     "data": {
      "image/png": "[encoded data removed]",
      "text/plain": [
       "<matplotlib.figure.Figure at 0x11283d470>"
      ]
     },
     "metadata": {},
     "output_type": "display_data"
    }
   ],
   "source": [
    "AO.plot()"
   ]
  },
  {
   "cell_type": "code",
   "execution_count": 8,
   "metadata": {},
   "outputs": [
    {
     "data": {
      "text/plain": [
       "<matplotlib.axes._subplots.AxesSubplot at 0x11295a470>"
      ]
     },
     "execution_count": 8,
     "metadata": {},
     "output_type": "execute_result"
    },
    {
     "data": {
      "image/png": "[encoded data removed]",
      "text/plain": [
       "<matplotlib.figure.Figure at 0x11297c780>"
      ]
     },
     "metadata": {},
     "output_type": "display_data"
    }
   ],
   "source": [
    "AO['1980':'1990'].plot()"
   ]
  },
  {
   "cell_type": "code",
   "execution_count": 9,
   "metadata": {},
   "outputs": [
    {
     "data": {
      "text/plain": [
       "<matplotlib.axes._subplots.AxesSubplot at 0x114c26f98>"
      ]
     },
     "execution_count": 9,
     "metadata": {},
     "output_type": "execute_result"
    },
    {
     "data": {
      "image/png": "[encoded data removed]",
      "text/plain": [
       "<matplotlib.figure.Figure at 0x114c41898>"
      ]
     },
     "metadata": {},
     "output_type": "display_data"
    }
   ],
   "source": [
    "AO['1992-01':'1993-08'].plot()"
   ]
  },
  {
   "cell_type": "markdown",
   "metadata": {},
   "source": [
    "Indexing data is very intuituve. For example:"
   ]
  },
  {
   "cell_type": "code",
   "execution_count": 10,
   "metadata": {},
   "outputs": [
    {
     "data": {
      "text/plain": [
       "1992-01-31    0.55003\n",
       "1992-02-29    1.12170\n",
       "1992-03-31    0.98423\n",
       "1992-04-30   -0.52053\n",
       "1992-05-31    1.34140\n",
       "1992-06-30   -0.30196\n",
       "1992-07-31    0.19113\n",
       "1992-08-31    0.53534\n",
       "1992-09-30   -0.64030\n",
       "1992-10-31   -0.36589\n",
       "1992-11-30    0.71699\n",
       "1992-12-31    1.62670\n",
       "Freq: M, dtype: float64"
      ]
     },
     "execution_count": 10,
     "metadata": {},
     "output_type": "execute_result"
    }
   ],
   "source": [
    "AO['1992']"
   ]
  },
  {
   "cell_type": "code",
   "execution_count": 11,
   "metadata": {},
   "outputs": [
    {
     "data": {
      "text/plain": [
       "2016-07-31    0.084758\n",
       "Freq: M, dtype: float64"
      ]
     },
     "execution_count": 11,
     "metadata": {},
     "output_type": "execute_result"
    }
   ],
   "source": [
    "AO['2016-07']"
   ]
  },
  {
   "cell_type": "markdown",
   "metadata": {},
   "source": [
    "You can also use fancy indexing as with arrays."
   ]
  },
  {
   "cell_type": "code",
   "execution_count": 12,
   "metadata": {},
   "outputs": [
    {
     "data": {
      "text/plain": [
       "1950-05-31    0.071577\n",
       "1951-07-31    0.090023\n",
       "1953-06-30    0.022535\n",
       "1953-08-31    0.084960\n",
       "1955-04-30    0.194230\n",
       "1955-05-31    0.241610\n",
       "1955-10-31    0.099053\n",
       "1956-06-30    0.280140\n",
       "1956-12-31    0.000891\n",
       "1957-04-30    0.237660\n",
       "1957-08-31    0.096898\n",
       "1959-04-30    0.119240\n",
       "1959-07-31    0.104720\n",
       "1960-06-30    0.054978\n",
       "1961-05-31    0.157480\n",
       "1961-08-31    0.012693\n",
       "1961-10-31    0.203080\n",
       "1962-05-31    0.067997\n",
       "1962-06-30    0.287070\n",
       "1962-08-31    0.152070\n",
       "1963-09-30    0.083110\n",
       "1964-06-30    0.141590\n",
       "1965-06-30    0.037800\n",
       "1965-12-31    0.162970\n",
       "1966-07-31    0.010944\n",
       "1966-09-30    0.011063\n",
       "1966-11-30    0.110560\n",
       "1967-05-31    0.126510\n",
       "1967-07-31    0.259260\n",
       "1967-09-30    0.132930\n",
       "                ...   \n",
       "1996-11-30    0.136370\n",
       "1997-08-31    0.120620\n",
       "1997-09-30    0.194510\n",
       "1998-10-31    0.294330\n",
       "1999-01-31    0.110350\n",
       "1999-04-30    0.284450\n",
       "1999-05-31    0.225870\n",
       "1999-09-30    0.059078\n",
       "2000-08-31    0.143890\n",
       "2003-02-28    0.127800\n",
       "2003-07-31    0.075316\n",
       "2003-12-31    0.265210\n",
       "2005-08-31    0.026141\n",
       "2005-10-31    0.029768\n",
       "2005-11-30    0.227690\n",
       "2006-04-30    0.138330\n",
       "2006-05-31    0.155810\n",
       "2006-07-31    0.102700\n",
       "2007-09-30    0.178920\n",
       "2008-11-30    0.092205\n",
       "2009-03-31    0.121340\n",
       "2012-05-31    0.168410\n",
       "2012-07-31    0.167790\n",
       "2012-08-31    0.013999\n",
       "2013-08-31    0.154250\n",
       "2013-10-31    0.262760\n",
       "2014-02-28    0.043775\n",
       "2014-09-30    0.101910\n",
       "2016-03-31    0.280240\n",
       "2016-07-31    0.084758\n",
       "Length: 106, dtype: float64"
      ]
     },
     "execution_count": 12,
     "metadata": {},
     "output_type": "execute_result"
    }
   ],
   "source": [
    "AO[np.logical_and((AO < 0.3),(AO > 0))]"
   ]
  },
  {
   "cell_type": "markdown",
   "metadata": {},
   "source": [
    "## DataFrame\n",
    "-------------------------------------------------------------------"
   ]
  },
  {
   "cell_type": "markdown",
   "metadata": {},
   "source": [
    "2-Dimensional data are handled well by the data structure called `Dataframe`. We will use the [North Atlantic Oscillation (NAO)](http://en.wikipedia.org/wiki/North_Atlantic_oscillation) data as an example. This data is available [here](http://www.cpc.ncep.noaa.gov/products/precip/CWlink/pna/norm.nao.monthly.b5001.current.ascii)."
   ]
  },
  {
   "cell_type": "markdown",
   "metadata": {},
   "source": [
    "Create a `Series` the same way as the previously done for the AO data."
   ]
  },
  {
   "cell_type": "code",
   "execution_count": 33,
   "metadata": {},
   "outputs": [
    {
     "name": "stdout",
     "output_type": "stream",
     "text": [
      "datetime64[ns]\n"
     ]
    }
   ],
   "source": [
    "nao = np.loadtxt('data/norm.nao.monthly.b5001.current.ascii.txt')\n",
    "dates_nao = pd.date_range('1950-01', '2017-01',freq='M')\n",
    "print(dates_nao.dtype)\n",
    "NAO = pd.Series(nao[:804,2],index=dates_nao)"
   ]
  },
  {
   "cell_type": "code",
   "execution_count": 14,
   "metadata": {
    "collapsed": true
   },
   "outputs": [],
   "source": [
    "aonao = pd.DataFrame({'AO' : AO, 'NAO' : NAO})"
   ]
  },
  {
   "cell_type": "code",
   "execution_count": 15,
   "metadata": {},
   "outputs": [
    {
     "data": {
      "text/plain": [
       "<matplotlib.axes._subplots.AxesSubplot at 0x114e158d0>"
      ]
     },
     "execution_count": 15,
     "metadata": {},
     "output_type": "execute_result"
    },
    {
     "data": {
      "image/png": "[encoded data removed]",
      "text/plain": [
       "<matplotlib.figure.Figure at 0x114de9b70>"
      ]
     },
     "metadata": {},
     "output_type": "display_data"
    }
   ],
   "source": [
    "aonao.plot()"
   ]
  },
  {
   "cell_type": "code",
   "execution_count": 16,
   "metadata": {},
   "outputs": [
    {
     "data": {
      "text/html": [
       "<div>\n",
       "<style>\n",
       "    .dataframe thead tr:only-child th {\n",
       "        text-align: right;\n",
       "    }\n",
       "\n",
       "    .dataframe thead th {\n",
       "        text-align: left;\n",
       "    }\n",
       "\n",
       "    .dataframe tbody tr th {\n",
       "        vertical-align: top;\n",
       "    }\n",
       "</style>\n",
       "<table border=\"1\" class=\"dataframe\">\n",
       "  <thead>\n",
       "    <tr style=\"text-align: right;\">\n",
       "      <th></th>\n",
       "      <th>AO</th>\n",
       "      <th>NAO</th>\n",
       "    </tr>\n",
       "  </thead>\n",
       "  <tbody>\n",
       "    <tr>\n",
       "      <th>1950-01-31</th>\n",
       "      <td>-0.060310</td>\n",
       "      <td>0.92</td>\n",
       "    </tr>\n",
       "    <tr>\n",
       "      <th>1950-02-28</th>\n",
       "      <td>0.626810</td>\n",
       "      <td>0.40</td>\n",
       "    </tr>\n",
       "    <tr>\n",
       "      <th>1950-03-31</th>\n",
       "      <td>-0.008127</td>\n",
       "      <td>-0.36</td>\n",
       "    </tr>\n",
       "    <tr>\n",
       "      <th>1950-04-30</th>\n",
       "      <td>0.555100</td>\n",
       "      <td>0.73</td>\n",
       "    </tr>\n",
       "    <tr>\n",
       "      <th>1950-05-31</th>\n",
       "      <td>0.071577</td>\n",
       "      <td>-0.59</td>\n",
       "    </tr>\n",
       "  </tbody>\n",
       "</table>\n",
       "</div>"
      ],
      "text/plain": [
       "                  AO   NAO\n",
       "1950-01-31 -0.060310  0.92\n",
       "1950-02-28  0.626810  0.40\n",
       "1950-03-31 -0.008127 -0.36\n",
       "1950-04-30  0.555100  0.73\n",
       "1950-05-31  0.071577 -0.59"
      ]
     },
     "execution_count": 16,
     "metadata": {},
     "output_type": "execute_result"
    }
   ],
   "source": [
    "aonao.head()"
   ]
  },
  {
   "cell_type": "markdown",
   "metadata": {},
   "source": [
    "Slicing works for both data."
   ]
  },
  {
   "cell_type": "code",
   "execution_count": 17,
   "metadata": {
    "scrolled": false
   },
   "outputs": [
    {
     "data": {
      "text/html": [
       "<div>\n",
       "<style>\n",
       "    .dataframe thead tr:only-child th {\n",
       "        text-align: right;\n",
       "    }\n",
       "\n",
       "    .dataframe thead th {\n",
       "        text-align: left;\n",
       "    }\n",
       "\n",
       "    .dataframe tbody tr th {\n",
       "        vertical-align: top;\n",
       "    }\n",
       "</style>\n",
       "<table border=\"1\" class=\"dataframe\">\n",
       "  <thead>\n",
       "    <tr style=\"text-align: right;\">\n",
       "      <th></th>\n",
       "      <th>AO</th>\n",
       "      <th>NAO</th>\n",
       "    </tr>\n",
       "  </thead>\n",
       "  <tbody>\n",
       "    <tr>\n",
       "      <th>1980-01-31</th>\n",
       "      <td>-2.065700</td>\n",
       "      <td>-0.75</td>\n",
       "    </tr>\n",
       "    <tr>\n",
       "      <th>1980-02-29</th>\n",
       "      <td>-0.933720</td>\n",
       "      <td>0.05</td>\n",
       "    </tr>\n",
       "    <tr>\n",
       "      <th>1980-03-31</th>\n",
       "      <td>-1.433300</td>\n",
       "      <td>-0.31</td>\n",
       "    </tr>\n",
       "    <tr>\n",
       "      <th>1980-04-30</th>\n",
       "      <td>-0.419130</td>\n",
       "      <td>1.29</td>\n",
       "    </tr>\n",
       "    <tr>\n",
       "      <th>1980-05-31</th>\n",
       "      <td>-1.154800</td>\n",
       "      <td>-1.50</td>\n",
       "    </tr>\n",
       "    <tr>\n",
       "      <th>1980-06-30</th>\n",
       "      <td>0.721490</td>\n",
       "      <td>-0.37</td>\n",
       "    </tr>\n",
       "    <tr>\n",
       "      <th>1980-07-31</th>\n",
       "      <td>-0.622210</td>\n",
       "      <td>-0.42</td>\n",
       "    </tr>\n",
       "    <tr>\n",
       "      <th>1980-08-31</th>\n",
       "      <td>-0.185190</td>\n",
       "      <td>-2.24</td>\n",
       "    </tr>\n",
       "    <tr>\n",
       "      <th>1980-09-30</th>\n",
       "      <td>0.312620</td>\n",
       "      <td>0.66</td>\n",
       "    </tr>\n",
       "    <tr>\n",
       "      <th>1980-10-31</th>\n",
       "      <td>-0.521210</td>\n",
       "      <td>-1.77</td>\n",
       "    </tr>\n",
       "    <tr>\n",
       "      <th>1980-11-30</th>\n",
       "      <td>-1.361000</td>\n",
       "      <td>-0.37</td>\n",
       "    </tr>\n",
       "    <tr>\n",
       "      <th>1980-12-31</th>\n",
       "      <td>-0.057300</td>\n",
       "      <td>0.78</td>\n",
       "    </tr>\n",
       "    <tr>\n",
       "      <th>1981-01-31</th>\n",
       "      <td>-0.116340</td>\n",
       "      <td>0.37</td>\n",
       "    </tr>\n",
       "    <tr>\n",
       "      <th>1981-02-28</th>\n",
       "      <td>-0.331580</td>\n",
       "      <td>0.92</td>\n",
       "    </tr>\n",
       "    <tr>\n",
       "      <th>1981-03-31</th>\n",
       "      <td>-1.644700</td>\n",
       "      <td>-1.19</td>\n",
       "    </tr>\n",
       "    <tr>\n",
       "      <th>1981-04-30</th>\n",
       "      <td>0.430410</td>\n",
       "      <td>0.36</td>\n",
       "    </tr>\n",
       "    <tr>\n",
       "      <th>1981-05-31</th>\n",
       "      <td>0.179560</td>\n",
       "      <td>0.20</td>\n",
       "    </tr>\n",
       "    <tr>\n",
       "      <th>1981-06-30</th>\n",
       "      <td>-0.437930</td>\n",
       "      <td>-0.45</td>\n",
       "    </tr>\n",
       "    <tr>\n",
       "      <th>1981-07-31</th>\n",
       "      <td>0.560550</td>\n",
       "      <td>0.05</td>\n",
       "    </tr>\n",
       "    <tr>\n",
       "      <th>1981-08-31</th>\n",
       "      <td>-0.244110</td>\n",
       "      <td>0.39</td>\n",
       "    </tr>\n",
       "    <tr>\n",
       "      <th>1981-09-30</th>\n",
       "      <td>-1.040100</td>\n",
       "      <td>-1.45</td>\n",
       "    </tr>\n",
       "    <tr>\n",
       "      <th>1981-10-31</th>\n",
       "      <td>-1.167500</td>\n",
       "      <td>-1.35</td>\n",
       "    </tr>\n",
       "    <tr>\n",
       "      <th>1981-11-30</th>\n",
       "      <td>-0.187670</td>\n",
       "      <td>-0.38</td>\n",
       "    </tr>\n",
       "    <tr>\n",
       "      <th>1981-12-31</th>\n",
       "      <td>-1.215700</td>\n",
       "      <td>-0.02</td>\n",
       "    </tr>\n",
       "    <tr>\n",
       "      <th>1982-01-31</th>\n",
       "      <td>-0.883410</td>\n",
       "      <td>-0.89</td>\n",
       "    </tr>\n",
       "    <tr>\n",
       "      <th>1982-02-28</th>\n",
       "      <td>0.973910</td>\n",
       "      <td>1.15</td>\n",
       "    </tr>\n",
       "    <tr>\n",
       "      <th>1982-03-31</th>\n",
       "      <td>1.074100</td>\n",
       "      <td>1.15</td>\n",
       "    </tr>\n",
       "    <tr>\n",
       "      <th>1982-04-30</th>\n",
       "      <td>1.453800</td>\n",
       "      <td>0.10</td>\n",
       "    </tr>\n",
       "    <tr>\n",
       "      <th>1982-05-31</th>\n",
       "      <td>-0.208700</td>\n",
       "      <td>-0.53</td>\n",
       "    </tr>\n",
       "    <tr>\n",
       "      <th>1982-06-30</th>\n",
       "      <td>-1.180100</td>\n",
       "      <td>-1.63</td>\n",
       "    </tr>\n",
       "    <tr>\n",
       "      <th>...</th>\n",
       "      <td>...</td>\n",
       "      <td>...</td>\n",
       "    </tr>\n",
       "    <tr>\n",
       "      <th>1983-07-31</th>\n",
       "      <td>0.130550</td>\n",
       "      <td>1.19</td>\n",
       "    </tr>\n",
       "    <tr>\n",
       "      <th>1983-08-31</th>\n",
       "      <td>1.097800</td>\n",
       "      <td>1.61</td>\n",
       "    </tr>\n",
       "    <tr>\n",
       "      <th>1983-09-30</th>\n",
       "      <td>0.166890</td>\n",
       "      <td>-1.12</td>\n",
       "    </tr>\n",
       "    <tr>\n",
       "      <th>1983-10-31</th>\n",
       "      <td>1.368900</td>\n",
       "      <td>0.65</td>\n",
       "    </tr>\n",
       "    <tr>\n",
       "      <th>1983-11-30</th>\n",
       "      <td>-0.687930</td>\n",
       "      <td>-0.98</td>\n",
       "    </tr>\n",
       "    <tr>\n",
       "      <th>1983-12-31</th>\n",
       "      <td>0.186250</td>\n",
       "      <td>0.29</td>\n",
       "    </tr>\n",
       "    <tr>\n",
       "      <th>1984-01-31</th>\n",
       "      <td>0.905040</td>\n",
       "      <td>1.66</td>\n",
       "    </tr>\n",
       "    <tr>\n",
       "      <th>1984-02-29</th>\n",
       "      <td>-0.302720</td>\n",
       "      <td>0.72</td>\n",
       "    </tr>\n",
       "    <tr>\n",
       "      <th>1984-03-31</th>\n",
       "      <td>-2.386000</td>\n",
       "      <td>-0.37</td>\n",
       "    </tr>\n",
       "    <tr>\n",
       "      <th>1984-04-30</th>\n",
       "      <td>-0.283590</td>\n",
       "      <td>-0.28</td>\n",
       "    </tr>\n",
       "    <tr>\n",
       "      <th>1984-05-31</th>\n",
       "      <td>0.479180</td>\n",
       "      <td>0.54</td>\n",
       "    </tr>\n",
       "    <tr>\n",
       "      <th>1984-06-30</th>\n",
       "      <td>0.007289</td>\n",
       "      <td>-0.42</td>\n",
       "    </tr>\n",
       "    <tr>\n",
       "      <th>1984-07-31</th>\n",
       "      <td>0.018871</td>\n",
       "      <td>-0.07</td>\n",
       "    </tr>\n",
       "    <tr>\n",
       "      <th>1984-08-31</th>\n",
       "      <td>0.465690</td>\n",
       "      <td>1.15</td>\n",
       "    </tr>\n",
       "    <tr>\n",
       "      <th>1984-09-30</th>\n",
       "      <td>-0.412760</td>\n",
       "      <td>0.17</td>\n",
       "    </tr>\n",
       "    <tr>\n",
       "      <th>1984-10-31</th>\n",
       "      <td>-0.270260</td>\n",
       "      <td>-0.07</td>\n",
       "    </tr>\n",
       "    <tr>\n",
       "      <th>1984-11-30</th>\n",
       "      <td>-0.965870</td>\n",
       "      <td>-0.06</td>\n",
       "    </tr>\n",
       "    <tr>\n",
       "      <th>1984-12-31</th>\n",
       "      <td>0.446000</td>\n",
       "      <td>0.00</td>\n",
       "    </tr>\n",
       "    <tr>\n",
       "      <th>1985-01-31</th>\n",
       "      <td>-2.805700</td>\n",
       "      <td>-1.61</td>\n",
       "    </tr>\n",
       "    <tr>\n",
       "      <th>1985-02-28</th>\n",
       "      <td>-1.439800</td>\n",
       "      <td>-0.49</td>\n",
       "    </tr>\n",
       "    <tr>\n",
       "      <th>1985-03-31</th>\n",
       "      <td>0.551440</td>\n",
       "      <td>0.20</td>\n",
       "    </tr>\n",
       "    <tr>\n",
       "      <th>1985-04-30</th>\n",
       "      <td>0.652420</td>\n",
       "      <td>0.32</td>\n",
       "    </tr>\n",
       "    <tr>\n",
       "      <th>1985-05-31</th>\n",
       "      <td>-0.432210</td>\n",
       "      <td>-0.49</td>\n",
       "    </tr>\n",
       "    <tr>\n",
       "      <th>1985-06-30</th>\n",
       "      <td>-0.346560</td>\n",
       "      <td>-0.80</td>\n",
       "    </tr>\n",
       "    <tr>\n",
       "      <th>1985-07-31</th>\n",
       "      <td>-0.389580</td>\n",
       "      <td>1.22</td>\n",
       "    </tr>\n",
       "    <tr>\n",
       "      <th>1985-08-31</th>\n",
       "      <td>-0.001429</td>\n",
       "      <td>-0.48</td>\n",
       "    </tr>\n",
       "    <tr>\n",
       "      <th>1985-09-30</th>\n",
       "      <td>0.114410</td>\n",
       "      <td>-0.52</td>\n",
       "    </tr>\n",
       "    <tr>\n",
       "      <th>1985-10-31</th>\n",
       "      <td>1.035100</td>\n",
       "      <td>0.90</td>\n",
       "    </tr>\n",
       "    <tr>\n",
       "      <th>1985-11-30</th>\n",
       "      <td>-1.217500</td>\n",
       "      <td>-0.67</td>\n",
       "    </tr>\n",
       "    <tr>\n",
       "      <th>1985-12-31</th>\n",
       "      <td>-1.947600</td>\n",
       "      <td>0.22</td>\n",
       "    </tr>\n",
       "  </tbody>\n",
       "</table>\n",
       "<p>72 rows × 2 columns</p>\n",
       "</div>"
      ],
      "text/plain": [
       "                  AO   NAO\n",
       "1980-01-31 -2.065700 -0.75\n",
       "1980-02-29 -0.933720  0.05\n",
       "1980-03-31 -1.433300 -0.31\n",
       "1980-04-30 -0.419130  1.29\n",
       "1980-05-31 -1.154800 -1.50\n",
       "1980-06-30  0.721490 -0.37\n",
       "1980-07-31 -0.622210 -0.42\n",
       "1980-08-31 -0.185190 -2.24\n",
       "1980-09-30  0.312620  0.66\n",
       "1980-10-31 -0.521210 -1.77\n",
       "1980-11-30 -1.361000 -0.37\n",
       "1980-12-31 -0.057300  0.78\n",
       "1981-01-31 -0.116340  0.37\n",
       "1981-02-28 -0.331580  0.92\n",
       "1981-03-31 -1.644700 -1.19\n",
       "1981-04-30  0.430410  0.36\n",
       "1981-05-31  0.179560  0.20\n",
       "1981-06-30 -0.437930 -0.45\n",
       "1981-07-31  0.560550  0.05\n",
       "1981-08-31 -0.244110  0.39\n",
       "1981-09-30 -1.040100 -1.45\n",
       "1981-10-31 -1.167500 -1.35\n",
       "1981-11-30 -0.187670 -0.38\n",
       "1981-12-31 -1.215700 -0.02\n",
       "1982-01-31 -0.883410 -0.89\n",
       "1982-02-28  0.973910  1.15\n",
       "1982-03-31  1.074100  1.15\n",
       "1982-04-30  1.453800  0.10\n",
       "1982-05-31 -0.208700 -0.53\n",
       "1982-06-30 -1.180100 -1.63\n",
       "...              ...   ...\n",
       "1983-07-31  0.130550  1.19\n",
       "1983-08-31  1.097800  1.61\n",
       "1983-09-30  0.166890 -1.12\n",
       "1983-10-31  1.368900  0.65\n",
       "1983-11-30 -0.687930 -0.98\n",
       "1983-12-31  0.186250  0.29\n",
       "1984-01-31  0.905040  1.66\n",
       "1984-02-29 -0.302720  0.72\n",
       "1984-03-31 -2.386000 -0.37\n",
       "1984-04-30 -0.283590 -0.28\n",
       "1984-05-31  0.479180  0.54\n",
       "1984-06-30  0.007289 -0.42\n",
       "1984-07-31  0.018871 -0.07\n",
       "1984-08-31  0.465690  1.15\n",
       "1984-09-30 -0.412760  0.17\n",
       "1984-10-31 -0.270260 -0.07\n",
       "1984-11-30 -0.965870 -0.06\n",
       "1984-12-31  0.446000  0.00\n",
       "1985-01-31 -2.805700 -1.61\n",
       "1985-02-28 -1.439800 -0.49\n",
       "1985-03-31  0.551440  0.20\n",
       "1985-04-30  0.652420  0.32\n",
       "1985-05-31 -0.432210 -0.49\n",
       "1985-06-30 -0.346560 -0.80\n",
       "1985-07-31 -0.389580  1.22\n",
       "1985-08-31 -0.001429 -0.48\n",
       "1985-09-30  0.114410 -0.52\n",
       "1985-10-31  1.035100  0.90\n",
       "1985-11-30 -1.217500 -0.67\n",
       "1985-12-31 -1.947600  0.22\n",
       "\n",
       "[72 rows x 2 columns]"
      ]
     },
     "execution_count": 17,
     "metadata": {},
     "output_type": "execute_result"
    }
   ],
   "source": [
    "aonao['1980':'1985']"
   ]
  },
  {
   "cell_type": "markdown",
   "metadata": {},
   "source": [
    "You can add more complexity to the slicing this way."
   ]
  },
  {
   "cell_type": "code",
   "execution_count": 18,
   "metadata": {},
   "outputs": [
    {
     "data": {
      "text/plain": [
       "<matplotlib.axes._subplots.AxesSubplot at 0x114f2b748>"
      ]
     },
     "execution_count": 18,
     "metadata": {},
     "output_type": "execute_result"
    },
    {
     "data": {
      "image/png": "[encoded data removed]",
      "text/plain": [
       "<matplotlib.figure.Figure at 0x114e32550>"
      ]
     },
     "metadata": {},
     "output_type": "display_data"
    }
   ],
   "source": [
    "import datetime\n",
    "aonao.loc[(aonao.AO > 0) & (aonao.NAO < 0)\n",
    "         & (aonao.index > datetime.datetime(1980,1,1))\n",
    "         & (aonao.index < datetime.datetime(1989,1,1)), 'NAO'].plot(kind='barh')"
   ]
  },
  {
   "cell_type": "markdown",
   "metadata": {},
   "source": [
    "Here I have used the [DataFrame.loc](http://pandas.pydata.org/pandas-docs/stable/generated/pandas.DataFrame.loc.html?highlight=loc#pandas.DataFrame.loc) advanced indexing attribute. We choose all the necessary constraints such as, AO > 0, NAO < 0, date range between years 1980-1989 (I have used the datetime module for this) and then, voila! you have your sliced data according to your requirements."
   ]
  },
  {
   "cell_type": "markdown",
   "metadata": {},
   "source": [
    "## Statistics with Pandas\n",
    "-------------------------------------------------------------------"
   ]
  },
  {
   "cell_type": "code",
   "execution_count": 19,
   "metadata": {},
   "outputs": [
    {
     "data": {
      "text/plain": [
       "AO    -4.2657\n",
       "NAO   -3.1800\n",
       "dtype: float64"
      ]
     },
     "execution_count": 19,
     "metadata": {},
     "output_type": "execute_result"
    }
   ],
   "source": [
    "aonao.min()"
   ]
  },
  {
   "cell_type": "code",
   "execution_count": 20,
   "metadata": {},
   "outputs": [
    {
     "data": {
      "text/plain": [
       "AO     3.4953\n",
       "NAO    3.0400\n",
       "dtype: float64"
      ]
     },
     "execution_count": 20,
     "metadata": {},
     "output_type": "execute_result"
    }
   ],
   "source": [
    "aonao.max()"
   ]
  },
  {
   "cell_type": "code",
   "execution_count": 21,
   "metadata": {},
   "outputs": [
    {
     "data": {
      "text/plain": [
       "AO    -0.116709\n",
       "NAO   -0.018718\n",
       "dtype: float64"
      ]
     },
     "execution_count": 21,
     "metadata": {},
     "output_type": "execute_result"
    }
   ],
   "source": [
    "aonao.mean()"
   ]
  },
  {
   "cell_type": "code",
   "execution_count": 22,
   "metadata": {},
   "outputs": [
    {
     "data": {
      "text/plain": [
       "AO    -0.044346\n",
       "NAO    0.025000\n",
       "dtype: float64"
      ]
     },
     "execution_count": 22,
     "metadata": {},
     "output_type": "execute_result"
    }
   ],
   "source": [
    "aonao.median()"
   ]
  },
  {
   "cell_type": "code",
   "execution_count": 23,
   "metadata": {},
   "outputs": [
    {
     "name": "stdout",
     "output_type": "stream",
     "text": [
      "AO    -0.116709\n",
      "NAO   -0.018718\n",
      "dtype: float64\n",
      "\n",
      " Now let's see the mean of both indices:\n",
      "\n",
      "1950-01-31    0.429845\n",
      "1950-02-28    0.513405\n",
      "1950-03-31   -0.184064\n",
      "1950-04-30    0.642550\n",
      "1950-05-31   -0.259211\n",
      "1950-06-30    0.239285\n",
      "1950-07-31   -1.031240\n",
      "1950-08-31   -0.450505\n",
      "1950-09-30    0.303985\n",
      "1950-10-31    0.235550\n",
      "1950-11-30   -0.887555\n",
      "1950-12-31   -1.474050\n",
      "1951-01-31   -0.002485\n",
      "1951-02-28    0.150035\n",
      "1951-03-31   -1.477050\n",
      "1951-04-30   -0.498240\n",
      "1951-05-31   -0.726390\n",
      "1951-06-30   -1.278930\n",
      "1951-07-31    0.730012\n",
      "1951-08-31   -0.298705\n",
      "1951-09-30   -1.088890\n",
      "1951-10-31    0.828545\n",
      "1951-11-30   -0.229260\n",
      "1951-12-31    1.653600\n",
      "1952-01-31    0.649125\n",
      "1952-02-29   -1.288600\n",
      "1952-03-31   -1.674750\n",
      "1952-04-30    0.774260\n",
      "1952-05-31   -0.946755\n",
      "1952-06-30   -0.420465\n",
      "                ...   \n",
      "2014-07-31   -0.156775\n",
      "2014-08-31   -1.026520\n",
      "2014-09-30    0.859105\n",
      "2014-10-31   -1.202500\n",
      "2014-11-30    0.073835\n",
      "2014-12-31    1.135210\n",
      "2015-01-31    1.440150\n",
      "2015-02-28    1.182700\n",
      "2015-03-31    1.643550\n",
      "2015-04-30    0.970525\n",
      "2015-05-31    0.454140\n",
      "2015-06-30    0.180109\n",
      "2015-07-31   -2.143450\n",
      "2015-08-31   -0.724690\n",
      "2015-09-30   -0.406485\n",
      "2015-10-31    0.093585\n",
      "2015-11-30    1.844400\n",
      "2015-12-31    1.843850\n",
      "2016-01-31   -0.666090\n",
      "2016-02-29    0.778390\n",
      "2016-03-31    0.507320\n",
      "2016-04-30   -0.337980\n",
      "2016-05-31   -0.404660\n",
      "2016-06-30   -0.059815\n",
      "2016-07-31   -0.837771\n",
      "2016-08-31   -0.586460\n",
      "2016-09-30    0.695965\n",
      "2016-10-31   -0.753025\n",
      "2016-11-30   -0.387285\n",
      "2016-12-31    1.132365\n",
      "Freq: M, Length: 804, dtype: float64\n"
     ]
    }
   ],
   "source": [
    "print(aonao.mean(0))# This is the regular mean (column-wise)\n",
    "print(\"\\n Now let's see the mean of both indices:\\n\")\n",
    "print(aonao.mean(1)) # Mean along row"
   ]
  },
  {
   "cell_type": "markdown",
   "metadata": {},
   "source": [
    "Or you can get all necessary statistics in one command."
   ]
  },
  {
   "cell_type": "code",
   "execution_count": 24,
   "metadata": {},
   "outputs": [
    {
     "data": {
      "text/html": [
       "<div>\n",
       "<style>\n",
       "    .dataframe thead tr:only-child th {\n",
       "        text-align: right;\n",
       "    }\n",
       "\n",
       "    .dataframe thead th {\n",
       "        text-align: left;\n",
       "    }\n",
       "\n",
       "    .dataframe tbody tr th {\n",
       "        vertical-align: top;\n",
       "    }\n",
       "</style>\n",
       "<table border=\"1\" class=\"dataframe\">\n",
       "  <thead>\n",
       "    <tr style=\"text-align: right;\">\n",
       "      <th></th>\n",
       "      <th>AO</th>\n",
       "      <th>NAO</th>\n",
       "    </tr>\n",
       "  </thead>\n",
       "  <tbody>\n",
       "    <tr>\n",
       "      <th>count</th>\n",
       "      <td>804.000000</td>\n",
       "      <td>804.000000</td>\n",
       "    </tr>\n",
       "    <tr>\n",
       "      <th>mean</th>\n",
       "      <td>-0.116709</td>\n",
       "      <td>-0.018718</td>\n",
       "    </tr>\n",
       "    <tr>\n",
       "      <th>std</th>\n",
       "      <td>1.007779</td>\n",
       "      <td>1.011623</td>\n",
       "    </tr>\n",
       "    <tr>\n",
       "      <th>min</th>\n",
       "      <td>-4.265700</td>\n",
       "      <td>-3.180000</td>\n",
       "    </tr>\n",
       "    <tr>\n",
       "      <th>25%</th>\n",
       "      <td>-0.662915</td>\n",
       "      <td>-0.760090</td>\n",
       "    </tr>\n",
       "    <tr>\n",
       "      <th>50%</th>\n",
       "      <td>-0.044346</td>\n",
       "      <td>0.025000</td>\n",
       "    </tr>\n",
       "    <tr>\n",
       "      <th>75%</th>\n",
       "      <td>0.475240</td>\n",
       "      <td>0.681750</td>\n",
       "    </tr>\n",
       "    <tr>\n",
       "      <th>max</th>\n",
       "      <td>3.495300</td>\n",
       "      <td>3.040000</td>\n",
       "    </tr>\n",
       "  </tbody>\n",
       "</table>\n",
       "</div>"
      ],
      "text/plain": [
       "               AO         NAO\n",
       "count  804.000000  804.000000\n",
       "mean    -0.116709   -0.018718\n",
       "std      1.007779    1.011623\n",
       "min     -4.265700   -3.180000\n",
       "25%     -0.662915   -0.760090\n",
       "50%     -0.044346    0.025000\n",
       "75%      0.475240    0.681750\n",
       "max      3.495300    3.040000"
      ]
     },
     "execution_count": 24,
     "metadata": {},
     "output_type": "execute_result"
    }
   ],
   "source": [
    "aonao.describe()"
   ]
  },
  {
   "cell_type": "markdown",
   "metadata": {},
   "source": [
    "Getting correlation coefficients is also very easy."
   ]
  },
  {
   "cell_type": "code",
   "execution_count": 25,
   "metadata": {
    "scrolled": true
   },
   "outputs": [
    {
     "data": {
      "text/html": [
       "<div>\n",
       "<style>\n",
       "    .dataframe thead tr:only-child th {\n",
       "        text-align: right;\n",
       "    }\n",
       "\n",
       "    .dataframe thead th {\n",
       "        text-align: left;\n",
       "    }\n",
       "\n",
       "    .dataframe tbody tr th {\n",
       "        vertical-align: top;\n",
       "    }\n",
       "</style>\n",
       "<table border=\"1\" class=\"dataframe\">\n",
       "  <thead>\n",
       "    <tr style=\"text-align: right;\">\n",
       "      <th></th>\n",
       "      <th>AO</th>\n",
       "      <th>NAO</th>\n",
       "    </tr>\n",
       "  </thead>\n",
       "  <tbody>\n",
       "    <tr>\n",
       "      <th>AO</th>\n",
       "      <td>1.000000</td>\n",
       "      <td>0.605191</td>\n",
       "    </tr>\n",
       "    <tr>\n",
       "      <th>NAO</th>\n",
       "      <td>0.605191</td>\n",
       "      <td>1.000000</td>\n",
       "    </tr>\n",
       "  </tbody>\n",
       "</table>\n",
       "</div>"
      ],
      "text/plain": [
       "           AO       NAO\n",
       "AO   1.000000  0.605191\n",
       "NAO  0.605191  1.000000"
      ]
     },
     "execution_count": 25,
     "metadata": {},
     "output_type": "execute_result"
    }
   ],
   "source": [
    "aonao.corr()"
   ]
  },
  {
   "cell_type": "markdown",
   "metadata": {},
   "source": [
    "## Exercise"
   ]
  },
  {
   "cell_type": "markdown",
   "metadata": {},
   "source": [
    "Try out basic pandas on some irregular data like the Bloomington station temperature and dew point temperature. "
   ]
  },
  {
   "cell_type": "code",
   "execution_count": 62,
   "metadata": {
    "scrolled": false
   },
   "outputs": [
    {
     "data": {
      "text/plain": [
       "<matplotlib.axes._subplots.AxesSubplot at 0x1158e88d0>"
      ]
     },
     "execution_count": 62,
     "metadata": {},
     "output_type": "execute_result"
    },
    {
     "data": {
      "image/png": "[encoded data removed]",
      "text/plain": [
       "<matplotlib.figure.Figure at 0x1158e26a0>"
      ]
     },
     "metadata": {},
     "output_type": "display_data"
    }
   ],
   "source": [
    "import datetime as dt\n",
    "data = pd.read_csv('data/KBMG-2013.csv')\n",
    "\n",
    "data['date'] = data.apply(lambda x: dt.datetime(x['yyyy'], x['mm'],x['dd'],x['hh'], x['mm.1']), axis=1)\n",
    "data.set_index(data['date'], inplace=True)\n",
    "\n",
    "T = pd.Series(data['temp'], index=data.index)\n",
    "TD = pd.Series(data['dwpt'], index=data.index)\n",
    "\n",
    "TTD = pd.DataFrame({'$T$': T, '$T_d$' : TD})\n",
    "\n",
    "TTD.plot()"
   ]
  },
  {
   "cell_type": "markdown",
   "metadata": {},
   "source": [
    "## Further Reading\n",
    "-------------------------------------------------------------------\n",
    "* [Pandas Tutorials](http://pandas.pydata.org/pandas-docs/stable/tutorials.html) - This link has links to multiple tutorials at the end apart from the official pandas tutorial."
   ]
  }
 ],
 "metadata": {
  "kernelspec": {
   "display_name": "Python 3",
   "language": "python",
   "name": "python3"
  },
  "language_info": {
   "codemirror_mode": {
    "name": "ipython",
    "version": 3
   },
   "file_extension": ".py",
   "mimetype": "text/x-python",
   "name": "python",
   "nbconvert_exporter": "python",
   "pygments_lexer": "ipython3",
   "version": "3.6.1"
  }
 },
 "nbformat": 4,
 "nbformat_minor": 2
}
