{
 "cells": [
  {
   "cell_type": "markdown",
   "metadata": {},
   "source": [
    "# Python for Earth and Atmospheric Sciences\n",
    "-------------------------------------------------------------------\n",
    "\n",
    "Kushal Keshavamurthy Raviprakash\n",
    "\n",
    "kushalkr2992@gmail.com\n",
    "\n",
    "This notebook is a part of the [Python for Earth and Atmospheric Sciences](https://github.com/Kushalkr/Python_for_Earth_and_Atmospheric_Sciences) workshop."
   ]
  },
  {
   "cell_type": "markdown",
   "metadata": {},
   "source": [
    "# Introduction\n",
    "-------------------------------------------------------------------"
   ]
  },
  {
   "cell_type": "markdown",
   "metadata": {},
   "source": [
    "# Why do we have to learn computer programming?\n",
    "-------------------------------------------------------------------\n",
    "\n",
    "## Definition of Programming: \n",
    "> **Computer Programming** (or **Programming** or **coding**) is the process of writing, testing, debugging and maintenance of a set of instructions that a computer can understand in a way that is convenient to humans.\n",
    "\n",
    "Basically, programming is used to make life easier and to let complex and repetitive tasks to be handled by computers.\n",
    "\n",
    "But, we can narrow down the need for programming to a few things:\n",
    "\n",
    "### 1. To Automate\n",
    "<img src=\"images/automation.png\" width=600>\n",
    "**The aim is to be as close to *theory* as possible and it is possible in some cases.**\n",
    "\n",
    "### 2. To perform repetitive tasks.\n",
    "\n",
    "### 3. To test scenarios without actually destroying stuff.\n",
    "\n",
    "### 4. To replicate and reproduce results (this is required for scienctific community)"
   ]
  },
  {
   "cell_type": "markdown",
   "metadata": {},
   "source": [
    "-------------------------------------------------------------------\n",
    "# Why do Earth and Atmopsheric Scientists need programming skills?\n",
    "-------------------------------------------------------------------\n",
    "\n",
    "## Well, same reasons as above.\n",
    "\n",
    "### But here a few things we can do:\n",
    "* Obtain data quickly.\n",
    "* Manipulate, extract and operate on huge amounts of data.\n",
    "* Create smaller datasets from larger datasets.\n",
    "* Vizualize data\n",
    "* Present results of Analysis etc...($\\LaTeX$, web etc..)\n",
    "\n",
    "And we need to do all of the above efficiently. There is no software which does all of the required tasks perfectly. But, science is developing fast and so are tools that help science go further and in a more efficient way."
   ]
  },
  {
   "cell_type": "markdown",
   "metadata": {},
   "source": [
    "# Why Python?\n",
    "-------------------------------------------------------------------"
   ]
  },
  {
   "cell_type": "markdown",
   "metadata": {},
   "source": [
    "## Installing Python\n",
    "-------------------------------------------------------------------"
   ]
  },
  {
   "cell_type": "markdown",
   "metadata": {},
   "source": [
    "* Download and install the **Python 3.6** version of [Miniconda](https://conda.io/miniconda.html) for the appropriate Operating system you have by following the instructions there.\n",
    "* Once miniconda is installed, enter the following command:\n",
    "```bash\n",
    "conda install -c conda-forge numpy scipy numexpr scikit-learn sympy \\\n",
    "pandas matplotlib basemap netcdf4 hdf5 cython ipython notebook nomkl mpi4py\n",
    "```\n"
   ]
  },
  {
   "cell_type": "code",
   "execution_count": 2,
   "metadata": {
    "scrolled": false
   },
   "outputs": [
    {
     "name": "stdout",
     "output_type": "stream",
     "text": [
      "Fetching package metadata .........\n",
      "Solving package specifications: ..........\n",
      "\n",
      "# All requested packages already installed.\n",
      "# packages in environment at /Users/kushal/Downloads/Analysis_tools/miniconda2/envs/tutorialenv:\n",
      "#\n",
      "basemap                   1.1.0               np112py36_0    conda-forge\n",
      "cython                    0.25.2                   py36_1    conda-forge\n",
      "hdf5                      1.8.17                        9    conda-forge\n",
      "ipython                   6.0.0                    py36_0    conda-forge\n",
      "matplotlib                2.0.2               np112py36_0    conda-forge\n",
      "mpi4py                    2.0.0                    py36_2    conda-forge\n",
      "netcdf4                   1.2.7               np112py36_0    conda-forge\n",
      "nomkl                     1.0                           0  \n",
      "notebook                  5.0.0                    py36_0    conda-forge\n",
      "numexpr                   2.6.2               np112py36_0    conda-forge\n",
      "numpy                     1.12.1          py36_blas_openblas_200  [blas_openblas]  conda-forge\n",
      "pandas                    0.20.1              np112py36_0    conda-forge\n",
      "scikit-learn              0.18.1          np112py36_blas_openblas_200  [blas_openblas]  conda-forge\n",
      "scipy                     0.19.0          np112py36_blas_openblas_200  [blas_openblas]  conda-forge\n",
      "spyder                    3.1.4                    py36_0    conda-forge\n",
      "sympy                     1.0                      py36_0    conda-forge\n"
     ]
    }
   ],
   "source": [
    "!conda install -c conda-forge numpy scipy numexpr scikit-learn \\\n",
    "sympy pandas matplotlib basemap netcdf4 hdf5 cython ipython \\\n",
    "notebook nomkl mpi4py spyder << y"
   ]
  },
  {
   "cell_type": "markdown",
   "metadata": {},
   "source": []
  }
 ],
 "metadata": {
  "kernelspec": {
   "display_name": "Python 3",
   "language": "python",
   "name": "python3"
  },
  "language_info": {
   "codemirror_mode": {
    "name": "ipython",
    "version": 3
   },
   "file_extension": ".py",
   "mimetype": "text/x-python",
   "name": "python",
   "nbconvert_exporter": "python",
   "pygments_lexer": "ipython3",
   "version": "3.6.1"
  }
 },
 "nbformat": 4,
 "nbformat_minor": 2
}
