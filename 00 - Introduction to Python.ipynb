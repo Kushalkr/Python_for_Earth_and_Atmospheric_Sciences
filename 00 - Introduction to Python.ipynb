{
 "cells": [
  {
   "cell_type": "markdown",
   "metadata": {},
   "source": [
    "# Python for Earth and Atmospheric Sciences\n",
    "-------------------------------------------------------------------\n",
    "\n",
    "Kushal Keshavamurthy Raviprakash\n",
    "\n",
    "kushalkr2992@gmail.com\n",
    "\n",
    "This notebook is a part of the [Python for Earth and Atmospheric Sciences](https://github.com/Kushalkr/Python_for_Earth_and_Atmospheric_Sciences) workshop."
   ]
  },
  {
   "cell_type": "markdown",
   "metadata": {},
   "source": [
    "# Introduction\n",
    "-------------------------------------------------------------------"
   ]
  },
  {
   "cell_type": "markdown",
   "metadata": {},
   "source": [
    "# Why do we have to learn computer programming?\n",
    "-------------------------------------------------------------------\n",
    "\n",
    "## Definition of Programming: \n",
    "> **Computer Programming** (or **Programming** or **coding**) is the process of writing, testing, debugging and maintenance of a set of instructions that a computer can understand in a way that is convenient to humans.\n",
    "\n",
    "Basically, programming is used to make life easier and to let complex and repetitive tasks to be handled by computers.\n",
    "\n",
    "But, we can narrow down the need for programming to a few things:\n",
    "\n",
    "### 1. To Automate\n",
    "<img src=\"images/automation.png\" width=600>\n",
    "**The aim is to be as close to *theory* as possible and it is possible in some cases.**\n",
    "\n",
    "### 2. To perform repetitive tasks.\n",
    "\n",
    "### 3. To test scenarios without actually destroying stuff.\n",
    "\n",
    "### 4. To replicate and reproduce results (this is essential for the scienctific community)"
   ]
  },
  {
   "cell_type": "markdown",
   "metadata": {},
   "source": [
    "-------------------------------------------------------------------\n",
    "# Why do Earth and Atmopsheric Scientists need programming skills?\n",
    "-------------------------------------------------------------------\n",
    "\n",
    "## Well, same reasons as above.\n",
    "\n",
    "### But here a few things we can do:\n",
    "* Obtain data quickly.\n",
    "* Manipulate, extract and operate on huge amounts of data.\n",
    "* Create smaller datasets from larger datasets.\n",
    "* Vizualize data\n",
    "* Present results of Analysis etc...($\\LaTeX$, web etc..)\n",
    "\n",
    "And we need to do all of the above efficiently. There is no software which does all of the required tasks perfectly. But, science is developing fast and so are tools that help science go further and in a more efficient way."
   ]
  },
  {
   "cell_type": "markdown",
   "metadata": {},
   "source": [
    "# Why Python?\n",
    "-------------------------------------------------------------------\n",
    "### Short version - Python is ~~AWESOME~~ versatile.\n",
    "\n",
    "### Long version - Python: \n",
    "- is a multi-paradigm programming language *(i.e procedural, scripting, fully object oriented and functional programming language)*\n",
    "- is an interpreted language.\n",
    "- has a robust set of data types.\n",
    "- has an easy to use syntax.\n",
    "- is platform-independent and open-source(*free*).\n",
    "- can also interface compiled languages such as C and FORTRAN."
   ]
  },
  {
   "cell_type": "markdown",
   "metadata": {},
   "source": []
  },
  {
   "cell_type": "markdown",
   "metadata": {},
   "source": [
    "## Installing Python\n",
    "-------------------------------------------------------------------"
   ]
  },
  {
   "cell_type": "markdown",
   "metadata": {},
   "source": [
    "## For MacOSX and Linux\n",
    "Open the terminal window and run the ```miniconda_install.sh``` script in the scripts directory of my git repository either by using:\n",
    "```bash\n",
    "bash miniconda_install.sh\n",
    "```\n",
    "or\n",
    "```bash\n",
    "chmod +x miniconda_install.sh\n",
    "./miniconda_install.sh\n",
    "```"
   ]
  },
  {
   "cell_type": "markdown",
   "metadata": {},
   "source": [
    "## For Windows\n",
    "\n",
    "* Go to [https://conda.io/miniconda.html](https://conda.io/miniconda.html).\n",
    "* Download the appropriate *Python 3.6* binary for Windows.\n"
   ]
  }
 ],
 "metadata": {
  "kernelspec": {
   "display_name": "Python 2",
   "language": "python",
   "name": "python2"
  },
  "language_info": {
   "codemirror_mode": {
    "name": "ipython",
    "version": 2
   },
   "file_extension": ".py",
   "mimetype": "text/x-python",
   "name": "python",
   "nbconvert_exporter": "python",
   "pygments_lexer": "ipython2",
   "version": "2.7.13"
  }
 },
 "nbformat": 4,
 "nbformat_minor": 2
}
