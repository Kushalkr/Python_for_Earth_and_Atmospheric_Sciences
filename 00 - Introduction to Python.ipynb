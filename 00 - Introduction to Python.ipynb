{
 "cells": [
  {
   "cell_type": "markdown",
   "metadata": {},
   "source": [
    "# Introduction"
   ]
  },
  {
   "cell_type": "markdown",
   "metadata": {},
   "source": [
    "## Installing Python"
   ]
  },
  {
   "cell_type": "markdown",
   "metadata": {},
   "source": [
    "* Download and install the **Python 3.6** version of [Miniconda](https://conda.io/miniconda.html) for the appropriate Operating system you have by following the instructions there.\n",
    "* Once miniconda is installed, enter the following command:\n",
    "```bash\n",
    "conda install -c conda-forge numpy scipy numexpr scikit-learn sympy \\\n",
    "pandas matplotlib basemap netcdf4 hdf5 cython ipython notebook nomkl mpi4py\n",
    "```\n"
   ]
  },
  {
   "cell_type": "code",
   "execution_count": 2,
   "metadata": {},
   "outputs": [
    {
     "name": "stdout",
     "output_type": "stream",
     "text": [
      "Fetching package metadata .........\n",
      "Solving package specifications: ..........\n",
      "\n",
      "# All requested packages already installed.\n",
      "# packages in environment at /Users/kkeshava/Downloads/Analysis_tools/miniconda2/envs/tutorialenv:\n",
      "#\n",
      "basemap                   1.1.0               np112py36_0    conda-forge\n",
      "cython                    0.25.2                   py36_1    conda-forge\n",
      "hdf5                      1.8.17                        9    conda-forge\n",
      "ipython                   6.0.0                    py36_0    conda-forge\n",
      "matplotlib                2.0.1               np112py36_0    conda-forge\n",
      "mpi4py                    2.0.0                    py36_2    conda-forge\n",
      "netcdf4                   1.2.7               np112py36_0    conda-forge\n",
      "nomkl                     1.0                           0  \n",
      "notebook                  5.0.0                    py36_0    conda-forge\n",
      "numexpr                   2.6.2               np112py36_0    conda-forge\n",
      "numpy                     1.12.1          py36_blas_openblas_200  [blas_openblas]  conda-forge\n",
      "pandas                    0.20.1              np112py36_0    conda-forge\n",
      "scikit-learn              0.18.1          np112py36_blas_openblas_200  [blas_openblas]  conda-forge\n",
      "scipy                     0.19.0          np112py36_blas_openblas_200  [blas_openblas]  conda-forge\n",
      "sympy                     1.0                      py36_0    conda-forge\n"
     ]
    }
   ],
   "source": [
    "!conda install -c conda-forge numpy scipy numexpr scikit-learn sympy pandas matplotlib basemap netcdf4 hdf5 cython ipython notebook nomkl mpi4py"
   ]
  },
  {
   "cell_type": "markdown",
   "metadata": {},
   "source": []
  }
 ],
 "metadata": {
  "kernelspec": {
   "display_name": "Python 3",
   "language": "python",
   "name": "python3"
  },
  "language_info": {
   "codemirror_mode": {
    "name": "ipython",
    "version": 3
   },
   "file_extension": ".py",
   "mimetype": "text/x-python",
   "name": "python",
   "nbconvert_exporter": "python",
   "pygments_lexer": "ipython3",
   "version": "3.6.1"
  }
 },
 "nbformat": 4,
 "nbformat_minor": 2
}
