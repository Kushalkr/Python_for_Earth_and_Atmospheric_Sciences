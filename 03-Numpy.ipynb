{
 "cells": [
  {
   "cell_type": "markdown",
   "metadata": {},
   "source": [
    "# NumPy\n",
    "-------------------------------------------------------------------\n",
    "\n",
    "Kushal Keshavamurthy Raviprakash\n",
    "\n",
    "kushalkr2992@gmail.com\n",
    "\n",
    "This notebook is a part of the [Python for Earth and Atmospheric Sciences](https://github.com/Kushalkr/Python_for_Earth_and_Atmospheric_Sciences) workshop.\n",
    "\n",
    "Disclaimer: Most of the material in this notebook is derived from [Lectures on Scientific Computing with Python](http://github.com/jrjohansson/scientific-python-lectures) by Robert Johannsson."
   ]
  },
  {
   "cell_type": "code",
   "execution_count": 1,
   "metadata": {
    "collapsed": true
   },
   "outputs": [],
   "source": [
    "%matplotlib inline \n",
    "import matplotlib.pyplot as plt # Don't worry about these two lines. \n",
    "                                #I'll explain in the future lectures"
   ]
  },
  {
   "cell_type": "markdown",
   "metadata": {},
   "source": [
    "## Introduction\n",
    "-------------------------------------------------------------------\n",
    "\n",
    "**NumPy** stands for **N**umerical **Py**thon. <img height=\"100\" src=\"images/numpy.png\" style=\"float: right\" />\n",
    "\n",
    "It is part of what is called the **Sci**entific **P**ython Stack or **SciPy** stack for short. The scipy stack is a collection of packages such as NumPy, SciPy, matplotlib, SymPy, Pandas which work well together and are used extensively in the scientific community.\n",
    "\n",
    "the `numpy` package (module) is an extension module to pure python and is used in almost all numerical computation done using python.\n",
    "\n",
    "The `numpy` package provides high-performance vector, matrix and higher directional structures which are optimized for performance."
   ]
  },
  {
   "cell_type": "markdown",
   "metadata": {},
   "source": [
    "As mentioned in the last lecture, `numpy` is a package. It is not available in pure python by default and has to imported.\n",
    "\n",
    "We can import the `numpy` module using any of the methods mentioned below:\n",
    "\n",
    "```py\n",
    "import numpy\n",
    "```\n",
    "methods are invoked with the syntax: `numpy.array()` etc...\n",
    "```py\n",
    "from numpy import *\n",
    "```\n",
    "no need to use dot `(.)` notation in this case. Ex.: `array()` suffices\n",
    "```py\n",
    "import numpy as np\n",
    "```\n",
    "the first way of importing is the better way but, it is too long. With this form of importing, we can invoke methods using the syntax: `np.array()`.\n",
    "\n",
    "The reason the first and the third way of importing the `numpy` module or for that matter any module is best because it does not leave any room for conflict.\n",
    "\n",
    "For Example, if you import both the `math` and the `numpy` module using the second method, \n",
    "there will be a conflict as to which definition of the *sine* function is used since both modules contain definitions of the *sine* function."
   ]
  },
  {
   "cell_type": "markdown",
   "metadata": {},
   "source": [
    "Let's jump into working with the methods and structures in the `numpy` module. \n",
    "\n",
    "Before doing anything, we need to import the `numpy` module."
   ]
  },
  {
   "cell_type": "code",
   "execution_count": 2,
   "metadata": {
    "collapsed": true
   },
   "outputs": [],
   "source": [
    "import numpy as np # importing the numpy module\n",
    "np.set_printoptions(precision=3) # this is to make the output look pretty"
   ]
  },
  {
   "cell_type": "markdown",
   "metadata": {},
   "source": [
    ".Vectors, matrices and multi-dimension data are all called **arrays** in numpy."
   ]
  },
  {
   "cell_type": "code",
   "execution_count": 3,
   "metadata": {},
   "outputs": [
    {
     "data": {
      "text/plain": [
       "'1.13.0'"
      ]
     },
     "execution_count": 3,
     "metadata": {},
     "output_type": "execute_result"
    }
   ],
   "source": [
    "np.__version__"
   ]
  },
  {
   "cell_type": "markdown",
   "metadata": {},
   "source": [
    "## Creating Numpy arrays\n",
    "-------------------------------------------------------------------\n",
    "\n",
    "You can create numpy arrays in a number of ways. Some of the methods are:\n",
    "* By converting lists and tuples\n",
    "* Using array creation functions defined in the `numpy` module. Ex.: `np.linspace()`, `np.arange()` etc....\n",
    "* Reading data from files and the converting it to array form."
   ]
  },
  {
   "cell_type": "markdown",
   "metadata": {},
   "source": [
    "### Converting lists and tuples\n",
    "\n",
    "To create a vector or matrix, use the `np.array()` function with the list as the argument."
   ]
  },
  {
   "cell_type": "code",
   "execution_count": 4,
   "metadata": {},
   "outputs": [
    {
     "data": {
      "text/plain": [
       "array([1, 2, 3, 4, 5])"
      ]
     },
     "execution_count": 4,
     "metadata": {},
     "output_type": "execute_result"
    }
   ],
   "source": [
    "v = np.array([1, 2, 3, 4, 5])\n",
    "\n",
    "v"
   ]
  },
  {
   "cell_type": "markdown",
   "metadata": {},
   "source": [
    "A matrix created by providing a nested list or tuple as argument."
   ]
  },
  {
   "cell_type": "code",
   "execution_count": 5,
   "metadata": {},
   "outputs": [
    {
     "data": {
      "text/plain": [
       "array([[1, 2],\n",
       "       [3, 4]])"
      ]
     },
     "execution_count": 5,
     "metadata": {},
     "output_type": "execute_result"
    }
   ],
   "source": [
    "M = np.array([[1, 2],[3, 4]])\n",
    "M"
   ]
  },
  {
   "cell_type": "markdown",
   "metadata": {},
   "source": [
    "the vector `v` and matrix `M`, both have the same type of `ndarray`."
   ]
  },
  {
   "cell_type": "code",
   "execution_count": 6,
   "metadata": {},
   "outputs": [
    {
     "data": {
      "text/plain": [
       "(numpy.ndarray, numpy.ndarray)"
      ]
     },
     "execution_count": 6,
     "metadata": {},
     "output_type": "execute_result"
    }
   ],
   "source": [
    "type(v), type(M)"
   ]
  },
  {
   "cell_type": "markdown",
   "metadata": {},
   "source": [
    "We can see the **size** (# of elements in the entire array) and **shape** (# of elements in each dimension) of arrays using the `size` and `shape` attribute of the array respectively."
   ]
  },
  {
   "cell_type": "code",
   "execution_count": 7,
   "metadata": {},
   "outputs": [
    {
     "name": "stdout",
     "output_type": "stream",
     "text": [
      "5 4\n"
     ]
    }
   ],
   "source": [
    "print(v.size, M.size)"
   ]
  },
  {
   "cell_type": "code",
   "execution_count": 8,
   "metadata": {},
   "outputs": [
    {
     "name": "stdout",
     "output_type": "stream",
     "text": [
      "(5,) (2, 2)\n"
     ]
    }
   ],
   "source": [
    "print(v.shape, M.shape)"
   ]
  },
  {
   "cell_type": "markdown",
   "metadata": {},
   "source": [
    "the arrays we created look very similar to lists. Why don't we use lists directly?\n",
    "\n",
    "The main reason is that lists are very general and because of dynamic typing, they can contain any type of data. As a result, implementing functions which handle multiple data types becomes difficult.\n",
    "\n",
    "NumPy is statically typed. Meaning, all the elements of the array will have the same type. This allows us to implement optimized functions using compiled languages such as C and FORTRAN."
   ]
  },
  {
   "cell_type": "markdown",
   "metadata": {},
   "source": [
    "### Using array generating functions"
   ]
  },
  {
   "cell_type": "markdown",
   "metadata": {},
   "source": [
    "#### `np.arange()`"
   ]
  },
  {
   "cell_type": "code",
   "execution_count": 9,
   "metadata": {},
   "outputs": [
    {
     "name": "stdout",
     "output_type": "stream",
     "text": [
      "[ 0.   0.1  0.2  0.3  0.4  0.5  0.6  0.7  0.8  0.9]\n",
      "[ 0 10 20 30 40 50 60 70 80 90]\n"
     ]
    }
   ],
   "source": [
    "a = np.arange(0, 1, 0.1) # arguments: start, stop, step\n",
    "# It is similar to the range function. Except, you can get float arrays too.\n",
    "print(a)\n",
    "a = np.arange(0, 100, 10)\n",
    "print(a)"
   ]
  },
  {
   "cell_type": "markdown",
   "metadata": {},
   "source": [
    "#### `np.linspace()` and `np.logspace()`"
   ]
  },
  {
   "cell_type": "code",
   "execution_count": 10,
   "metadata": {},
   "outputs": [
    {
     "name": "stdout",
     "output_type": "stream",
     "text": [
      "[ 0.     0.111  0.222  0.333  0.444  0.556  0.667  0.778  0.889  1.   ]\n"
     ]
    }
   ],
   "source": [
    "b = np.linspace(0,1,10)\n",
    "print(b)"
   ]
  },
  {
   "cell_type": "code",
   "execution_count": 11,
   "metadata": {
    "scrolled": true
   },
   "outputs": [
    {
     "data": {
      "text/plain": [
       "array([  1.000e+00,   1.000e+01,   1.000e+02,   1.000e+03,   1.000e+04,\n",
       "         1.000e+05,   1.000e+06,   1.000e+07,   1.000e+08,   1.000e+09,\n",
       "         1.000e+10])"
      ]
     },
     "execution_count": 11,
     "metadata": {},
     "output_type": "execute_result"
    }
   ],
   "source": [
    "b = np.logspace(0,10,11, base=10)\n",
    "b"
   ]
  },
  {
   "cell_type": "markdown",
   "metadata": {},
   "source": [
    "#### `np.mgrid()` (Similar to `meshgrid()` in MATLAB)"
   ]
  },
  {
   "cell_type": "code",
   "execution_count": 12,
   "metadata": {
    "collapsed": true
   },
   "outputs": [],
   "source": [
    "x, y =np.mgrid[0:5, 0:5]"
   ]
  },
  {
   "cell_type": "code",
   "execution_count": 13,
   "metadata": {},
   "outputs": [
    {
     "data": {
      "text/plain": [
       "array([[0, 0, 0, 0, 0],\n",
       "       [1, 1, 1, 1, 1],\n",
       "       [2, 2, 2, 2, 2],\n",
       "       [3, 3, 3, 3, 3],\n",
       "       [4, 4, 4, 4, 4]])"
      ]
     },
     "execution_count": 13,
     "metadata": {},
     "output_type": "execute_result"
    }
   ],
   "source": [
    "x"
   ]
  },
  {
   "cell_type": "code",
   "execution_count": 14,
   "metadata": {
    "scrolled": false
   },
   "outputs": [
    {
     "data": {
      "text/plain": [
       "array([[0, 1, 2, 3, 4],\n",
       "       [0, 1, 2, 3, 4],\n",
       "       [0, 1, 2, 3, 4],\n",
       "       [0, 1, 2, 3, 4],\n",
       "       [0, 1, 2, 3, 4]])"
      ]
     },
     "execution_count": 14,
     "metadata": {},
     "output_type": "execute_result"
    }
   ],
   "source": [
    "y"
   ]
  },
  {
   "cell_type": "markdown",
   "metadata": {},
   "source": [
    "#### `np.diag()`"
   ]
  },
  {
   "cell_type": "code",
   "execution_count": 15,
   "metadata": {},
   "outputs": [
    {
     "data": {
      "text/plain": [
       "array([[1, 0, 0],\n",
       "       [0, 2, 0],\n",
       "       [0, 0, 3]])"
      ]
     },
     "execution_count": 15,
     "metadata": {},
     "output_type": "execute_result"
    }
   ],
   "source": [
    "np.diag([1, 2, 3])"
   ]
  },
  {
   "cell_type": "markdown",
   "metadata": {},
   "source": [
    "#### `np.zeros()` and `np.ones()`"
   ]
  },
  {
   "cell_type": "code",
   "execution_count": 16,
   "metadata": {},
   "outputs": [
    {
     "data": {
      "text/plain": [
       "array([[ 0.,  0.,  0.],\n",
       "       [ 0.,  0.,  0.],\n",
       "       [ 0.,  0.,  0.]])"
      ]
     },
     "execution_count": 16,
     "metadata": {},
     "output_type": "execute_result"
    }
   ],
   "source": [
    "np.zeros((3,3))"
   ]
  },
  {
   "cell_type": "code",
   "execution_count": 17,
   "metadata": {},
   "outputs": [
    {
     "data": {
      "text/plain": [
       "array([[ 1.,  1.,  1.,  1.,  1.],\n",
       "       [ 1.,  1.,  1.,  1.,  1.],\n",
       "       [ 1.,  1.,  1.,  1.,  1.],\n",
       "       [ 1.,  1.,  1.,  1.,  1.],\n",
       "       [ 1.,  1.,  1.,  1.,  1.]])"
      ]
     },
     "execution_count": 17,
     "metadata": {},
     "output_type": "execute_result"
    }
   ],
   "source": [
    "np.ones((5,5))"
   ]
  },
  {
   "cell_type": "markdown",
   "metadata": {},
   "source": [
    "### Reading from files"
   ]
  },
  {
   "cell_type": "markdown",
   "metadata": {},
   "source": [
    "We will read in data from the file `sample.txt` and put the data into an array."
   ]
  },
  {
   "cell_type": "code",
   "execution_count": 18,
   "metadata": {
    "collapsed": true
   },
   "outputs": [],
   "source": [
    "data = np.loadtxt('data/sample.txt', delimiter=',')"
   ]
  },
  {
   "cell_type": "code",
   "execution_count": 19,
   "metadata": {
    "scrolled": true
   },
   "outputs": [
    {
     "name": "stdout",
     "output_type": "stream",
     "text": [
      "float64\n",
      "(100, 2)\n"
     ]
    }
   ],
   "source": [
    "print(data.dtype)\n",
    "print(data.shape)"
   ]
  },
  {
   "cell_type": "markdown",
   "metadata": {},
   "source": [
    "Let me show you what the data looks like. Don't be daunted by the weird code. You will underestand it in the next lecture."
   ]
  },
  {
   "cell_type": "code",
   "execution_count": 20,
   "metadata": {},
   "outputs": [
    {
     "data": {
      "text/plain": [
       "(-7.6719695703244994, 13.537726962634501, -10.488120277751001, 18.206316764531)"
      ]
     },
     "execution_count": 20,
     "metadata": {},
     "output_type": "execute_result"
    },
    {
     "data": {
      "image/png": "[encoded data removed]",
      "text/plain": [
       "<matplotlib.figure.Figure at 0x11a41d2e8>"
      ]
     },
     "metadata": {},
     "output_type": "display_data"
    }
   ],
   "source": [
    "fig, ax = plt.subplots(figsize=(6,6))\n",
    "ax.plot(data[:,0], data[:,1])\n",
    "ax.axis('equal')"
   ]
  },
  {
   "cell_type": "markdown",
   "metadata": {},
   "source": [
    "## Manipulating Numpy arrays\n",
    "-------------------------------------------------------------------"
   ]
  },
  {
   "cell_type": "markdown",
   "metadata": {},
   "source": [
    "### Indexing"
   ]
  },
  {
   "cell_type": "markdown",
   "metadata": {},
   "source": [
    "Indexing of elements in an array is done by providing indices within square brackets."
   ]
  },
  {
   "cell_type": "code",
   "execution_count": 21,
   "metadata": {
    "scrolled": true
   },
   "outputs": [
    {
     "data": {
      "text/plain": [
       "array([  0.,   1.,   2.,   3.,   4.,   5.,   6.,   7.,   8.,   9.,  10.,\n",
       "        11.,  12.,  13.,  14.,  15.,  16.,  17.,  18.,  19.,  20.])"
      ]
     },
     "execution_count": 21,
     "metadata": {},
     "output_type": "execute_result"
    }
   ],
   "source": [
    "# Definition of the vector a.\n",
    "a = np.linspace(0,20, 21, endpoint=True)\n",
    "a"
   ]
  },
  {
   "cell_type": "code",
   "execution_count": 22,
   "metadata": {},
   "outputs": [
    {
     "name": "stdout",
     "output_type": "stream",
     "text": [
      "[[ 49.  90.  90.  10.  45.]\n",
      " [ 81.  65.  22.   5.  48.]\n",
      " [ 92.  16.  52.  98.  39.]\n",
      " [ 74.  43.  71.  72.  37.]\n",
      " [ 28.  54.  65.  73.  49.]]\n",
      "float64\n"
     ]
    }
   ],
   "source": [
    "# Definition of the matrix M.\n",
    "M = np.random.randint(0,100,size=(5,5)) * np.float64(1.)\n",
    "print(M)\n",
    "print(M.dtype)"
   ]
  },
  {
   "cell_type": "code",
   "execution_count": 23,
   "metadata": {},
   "outputs": [
    {
     "data": {
      "text/plain": [
       "4.0"
      ]
     },
     "execution_count": 23,
     "metadata": {},
     "output_type": "execute_result"
    }
   ],
   "source": [
    "a[4] # a is a vector and therefore has only one dimension"
   ]
  },
  {
   "cell_type": "code",
   "execution_count": 24,
   "metadata": {},
   "outputs": [
    {
     "data": {
      "text/plain": [
       "81.0"
      ]
     },
     "execution_count": 24,
     "metadata": {},
     "output_type": "execute_result"
    }
   ],
   "source": [
    "M[1,0] # M is a matrix or 2-dimensional array. As a result, requires 2 indices"
   ]
  },
  {
   "cell_type": "markdown",
   "metadata": {},
   "source": [
    "Omitting indices altogether gives the entire array"
   ]
  },
  {
   "cell_type": "code",
   "execution_count": 25,
   "metadata": {},
   "outputs": [
    {
     "data": {
      "text/plain": [
       "array([[ 49.,  90.,  90.,  10.,  45.],\n",
       "       [ 81.,  65.,  22.,   5.,  48.],\n",
       "       [ 92.,  16.,  52.,  98.,  39.],\n",
       "       [ 74.,  43.,  71.,  72.,  37.],\n",
       "       [ 28.,  54.,  65.,  73.,  49.]])"
      ]
     },
     "execution_count": 25,
     "metadata": {},
     "output_type": "execute_result"
    }
   ],
   "source": [
    "M"
   ]
  },
  {
   "cell_type": "markdown",
   "metadata": {},
   "source": [
    "Omitting one of the indices gives the particular *axis* of the array."
   ]
  },
  {
   "cell_type": "code",
   "execution_count": 26,
   "metadata": {},
   "outputs": [
    {
     "data": {
      "text/plain": [
       "array([ 81.,  65.,  22.,   5.,  48.])"
      ]
     },
     "execution_count": 26,
     "metadata": {},
     "output_type": "execute_result"
    }
   ],
   "source": [
    "M[1] # Single index like so will give the second row of M"
   ]
  },
  {
   "cell_type": "markdown",
   "metadata": {},
   "source": [
    "The same can be achieved with `:` instead of an index. This is much more flexible."
   ]
  },
  {
   "cell_type": "code",
   "execution_count": 27,
   "metadata": {},
   "outputs": [
    {
     "data": {
      "text/plain": [
       "array([ 90.,  65.,  16.,  43.,  54.])"
      ]
     },
     "execution_count": 27,
     "metadata": {},
     "output_type": "execute_result"
    }
   ],
   "source": [
    "M[:,1] # second column of M"
   ]
  },
  {
   "cell_type": "code",
   "execution_count": 28,
   "metadata": {},
   "outputs": [
    {
     "data": {
      "text/plain": [
       "array([ 81.,  65.,  22.,   5.,  48.])"
      ]
     },
     "execution_count": 28,
     "metadata": {},
     "output_type": "execute_result"
    }
   ],
   "source": [
    "M[1,:] #2nd row of M"
   ]
  },
  {
   "cell_type": "markdown",
   "metadata": {},
   "source": [
    "We can modify the value of an array through assignment."
   ]
  },
  {
   "cell_type": "code",
   "execution_count": 29,
   "metadata": {},
   "outputs": [
    {
     "data": {
      "text/plain": [
       "array([[  0.,  90.,  90.,  10.,  45.],\n",
       "       [ 81.,  65.,  22.,   5.,  48.],\n",
       "       [ 92.,  16.,  52.,  98.,  39.],\n",
       "       [ 74.,  43.,  71.,  72.,  37.],\n",
       "       [ 28.,  54.,  65.,  73.,  49.]])"
      ]
     },
     "execution_count": 29,
     "metadata": {},
     "output_type": "execute_result"
    }
   ],
   "source": [
    "M[0,0] = 0. # Assign 0. to the element in the first row and first column.\n",
    "M"
   ]
  },
  {
   "cell_type": "markdown",
   "metadata": {},
   "source": [
    "This also works for rows and columns."
   ]
  },
  {
   "cell_type": "code",
   "execution_count": 30,
   "metadata": {},
   "outputs": [
    {
     "data": {
      "text/plain": [
       "array([[   0., -100.,   90.,   10.,   45.],\n",
       "       [  81., -100.,   22.,    5.,   48.],\n",
       "       [  92., -100.,   52.,   98.,   39.],\n",
       "       [  74., -100.,   71.,   72.,   37.],\n",
       "       [  28., -100.,   65.,   73.,   49.]])"
      ]
     },
     "execution_count": 30,
     "metadata": {},
     "output_type": "execute_result"
    }
   ],
   "source": [
    "M[:,1] = -100. # Assign -100. to all rows in the second column\n",
    "M"
   ]
  },
  {
   "cell_type": "markdown",
   "metadata": {},
   "source": [
    "You can provide strides for indexing."
   ]
  },
  {
   "cell_type": "code",
   "execution_count": 31,
   "metadata": {},
   "outputs": [
    {
     "data": {
      "text/plain": [
       "array([[  0.,  90.,  45.],\n",
       "       [ 92.,  52.,  39.],\n",
       "       [ 28.,  65.,  49.]])"
      ]
     },
     "execution_count": 31,
     "metadata": {},
     "output_type": "execute_result"
    }
   ],
   "source": [
    "M[::2, ::2] # Return elements at every second indices"
   ]
  },
  {
   "cell_type": "markdown",
   "metadata": {},
   "source": [
    "### Fancy indexing"
   ]
  },
  {
   "cell_type": "markdown",
   "metadata": {},
   "source": [
    "Fancy indexing is the name used when a list or an array is used to index elements of an array in-place of an index value."
   ]
  },
  {
   "cell_type": "code",
   "execution_count": 32,
   "metadata": {
    "scrolled": true
   },
   "outputs": [
    {
     "data": {
      "text/plain": [
       "array([[  81., -100.,   22.,    5.,   48.],\n",
       "       [  92., -100.,   52.,   98.,   39.],\n",
       "       [  28., -100.,   65.,   73.,   49.]])"
      ]
     },
     "execution_count": 32,
     "metadata": {},
     "output_type": "execute_result"
    }
   ],
   "source": [
    "row_indices = [1, 2, 4] # row numbers\n",
    "M[row_indices] "
   ]
  },
  {
   "cell_type": "code",
   "execution_count": 33,
   "metadata": {},
   "outputs": [
    {
     "data": {
      "text/plain": [
       "array([ 22.,  39.,  49.])"
      ]
     },
     "execution_count": 33,
     "metadata": {},
     "output_type": "execute_result"
    }
   ],
   "source": [
    "col_indices = [2, 4, -1] # column numbers\n",
    "M[row_indices, col_indices]"
   ]
  },
  {
   "cell_type": "markdown",
   "metadata": {},
   "source": [
    "You can mask out certain values using booleans."
   ]
  },
  {
   "cell_type": "code",
   "execution_count": 34,
   "metadata": {},
   "outputs": [
    {
     "data": {
      "text/plain": [
       "array([0, 1, 2, 3, 4])"
      ]
     },
     "execution_count": 34,
     "metadata": {},
     "output_type": "execute_result"
    }
   ],
   "source": [
    "b = np.array([x for x in range(5)]) # This is called a list comprehension which is then converted to an array\n",
    "b"
   ]
  },
  {
   "cell_type": "code",
   "execution_count": 35,
   "metadata": {},
   "outputs": [
    {
     "data": {
      "text/plain": [
       "array([1, 2])"
      ]
     },
     "execution_count": 35,
     "metadata": {},
     "output_type": "execute_result"
    }
   ],
   "source": [
    "row_mask = [False, True, True, False, False] # a list of booleans masking unwanted elements\n",
    "b[row_mask]"
   ]
  },
  {
   "cell_type": "code",
   "execution_count": 36,
   "metadata": {},
   "outputs": [
    {
     "data": {
      "text/plain": [
       "array([1, 2])"
      ]
     },
     "execution_count": 36,
     "metadata": {},
     "output_type": "execute_result"
    }
   ],
   "source": [
    "row_mask = np.array([0,1,1,0,0], dtype=bool) # another way of defining a mask\n",
    "b[row_mask]"
   ]
  },
  {
   "cell_type": "markdown",
   "metadata": {},
   "source": [
    "You can use masks to conditionally select elements."
   ]
  },
  {
   "cell_type": "code",
   "execution_count": 37,
   "metadata": {},
   "outputs": [
    {
     "name": "stdout",
     "output_type": "stream",
     "text": [
      "[[False  True False False False]\n",
      " [False  True False False False]\n",
      " [False  True False False False]\n",
      " [False  True False False False]\n",
      " [False  True False False False]] \n",
      "\n",
      " [[   0. -100.   90.   10.   45.]\n",
      " [  81. -100.   22.    5.   48.]\n",
      " [  92. -100.   52.   98.   39.]\n",
      " [  74. -100.   71.   72.   37.]\n",
      " [  28. -100.   65.   73.   49.]]\n"
     ]
    }
   ],
   "source": [
    "mask = M < 0 # Operates on individual elements and returns True or False for each element.\n",
    "print(mask,\"\\n\\n\", M) # \\n is an escape sequence for newline."
   ]
  },
  {
   "cell_type": "code",
   "execution_count": 38,
   "metadata": {},
   "outputs": [
    {
     "data": {
      "text/plain": [
       "array([-100., -100., -100., -100., -100.])"
      ]
     },
     "execution_count": 38,
     "metadata": {},
     "output_type": "execute_result"
    }
   ],
   "source": [
    "M[mask]"
   ]
  },
  {
   "cell_type": "markdown",
   "metadata": {},
   "source": [
    "### Functions to find position indices and extracting data"
   ]
  },
  {
   "cell_type": "markdown",
   "metadata": {},
   "source": [
    "#### `np.where()`"
   ]
  },
  {
   "cell_type": "code",
   "execution_count": 39,
   "metadata": {},
   "outputs": [
    {
     "data": {
      "text/plain": [
       "(array([0, 1, 2, 3, 4]), array([1, 1, 1, 1, 1]))"
      ]
     },
     "execution_count": 39,
     "metadata": {},
     "output_type": "execute_result"
    }
   ],
   "source": [
    "indices = np.where(mask)\n",
    "indices"
   ]
  },
  {
   "cell_type": "code",
   "execution_count": 40,
   "metadata": {},
   "outputs": [
    {
     "data": {
      "text/plain": [
       "array([-100., -100., -100., -100., -100.])"
      ]
     },
     "execution_count": 40,
     "metadata": {},
     "output_type": "execute_result"
    }
   ],
   "source": [
    "M[indices] # Similar to fancy indexing where the row and column are sent as a tuple"
   ]
  },
  {
   "cell_type": "markdown",
   "metadata": {},
   "source": [
    "#### `np.diag()`"
   ]
  },
  {
   "cell_type": "markdown",
   "metadata": {},
   "source": [
    "The `np.diag()` function was used before to create diagonal matrices. But, the same function can be used to retrieve the diagonal and sub-diagonal elements of a matrix."
   ]
  },
  {
   "cell_type": "code",
   "execution_count": 41,
   "metadata": {},
   "outputs": [
    {
     "data": {
      "text/plain": [
       "array([   0., -100.,   52.,   72.,   49.])"
      ]
     },
     "execution_count": 41,
     "metadata": {},
     "output_type": "execute_result"
    }
   ],
   "source": [
    "np.diag(M)"
   ]
  },
  {
   "cell_type": "code",
   "execution_count": 42,
   "metadata": {},
   "outputs": [
    {
     "data": {
      "text/plain": [
       "array([  81., -100.,   71.,   73.])"
      ]
     },
     "execution_count": 42,
     "metadata": {},
     "output_type": "execute_result"
    }
   ],
   "source": [
    "np.diag(M,-1) # 1st sub-diagonal below the main diagonal"
   ]
  },
  {
   "cell_type": "code",
   "execution_count": 43,
   "metadata": {
    "scrolled": true
   },
   "outputs": [
    {
     "data": {
      "text/plain": [
       "array([-100.,   22.,   98.,   37.])"
      ]
     },
     "execution_count": 43,
     "metadata": {},
     "output_type": "execute_result"
    }
   ],
   "source": [
    "np.diag(M,1) # 1st sub-diagonal above the main diagonal"
   ]
  },
  {
   "cell_type": "markdown",
   "metadata": {},
   "source": [
    "There are many other functions such as `np.take()` and `np.choose()` that have not been discussed here."
   ]
  },
  {
   "cell_type": "markdown",
   "metadata": {},
   "source": [
    "## Linear Algebra\n",
    "-------------------------------------------------------------------\n",
    "\n",
    "If you are going to be dealing with numerical calculations, it is better vectorize your code since vectorization allows efficient computation and faster performance. Vectorizing means to write code in terms of vector and matrix operations like matrix-vector multiplication or matrix-matrix multiplication etc..."
   ]
  },
  {
   "cell_type": "markdown",
   "metadata": {},
   "source": [
    "### Scalar-Array operations"
   ]
  },
  {
   "cell_type": "markdown",
   "metadata": {},
   "source": [
    "Basic arithmetic operations can be used to add subtract, divide and multiple arrays with scalars."
   ]
  },
  {
   "cell_type": "code",
   "execution_count": 44,
   "metadata": {
    "collapsed": true
   },
   "outputs": [],
   "source": [
    "v = np.arange(5) # [0, 1, 2, 3, 4]"
   ]
  },
  {
   "cell_type": "markdown",
   "metadata": {},
   "source": [
    "By default, for the `numpy.array` type, the operation is performed elementwise."
   ]
  },
  {
   "cell_type": "code",
   "execution_count": 45,
   "metadata": {},
   "outputs": [
    {
     "data": {
      "text/plain": [
       "array([0, 2, 4, 6, 8])"
      ]
     },
     "execution_count": 45,
     "metadata": {},
     "output_type": "execute_result"
    }
   ],
   "source": [
    "v * 2"
   ]
  },
  {
   "cell_type": "code",
   "execution_count": 46,
   "metadata": {},
   "outputs": [
    {
     "data": {
      "text/plain": [
       "array([2, 3, 4, 5, 6])"
      ]
     },
     "execution_count": 46,
     "metadata": {},
     "output_type": "execute_result"
    }
   ],
   "source": [
    "v + 2"
   ]
  },
  {
   "cell_type": "markdown",
   "metadata": {},
   "source": [
    "Let's create a matrix `A`."
   ]
  },
  {
   "cell_type": "code",
   "execution_count": 47,
   "metadata": {},
   "outputs": [
    {
     "data": {
      "text/plain": [
       "array([[ 0,  1,  2,  3,  4],\n",
       "       [ 5,  6,  7,  8,  9],\n",
       "       [10, 11, 12, 13, 14],\n",
       "       [15, 16, 17, 18, 19],\n",
       "       [20, 21, 22, 23, 24]])"
      ]
     },
     "execution_count": 47,
     "metadata": {},
     "output_type": "execute_result"
    }
   ],
   "source": [
    "A = np.array([[ i + j*5 for i in range(5)] for j in range(5)]) # List comprehension way of creating matrix A\n",
    "A"
   ]
  },
  {
   "cell_type": "code",
   "execution_count": 48,
   "metadata": {},
   "outputs": [
    {
     "data": {
      "text/plain": [
       "array([[ 1,  2,  3,  4,  5],\n",
       "       [ 6,  7,  8,  9, 10],\n",
       "       [11, 12, 13, 14, 15],\n",
       "       [16, 17, 18, 19, 20],\n",
       "       [21, 22, 23, 24, 25]])"
      ]
     },
     "execution_count": 48,
     "metadata": {},
     "output_type": "execute_result"
    }
   ],
   "source": [
    "A + 1"
   ]
  },
  {
   "cell_type": "code",
   "execution_count": 49,
   "metadata": {},
   "outputs": [
    {
     "data": {
      "text/plain": [
       "array([[ 0,  2,  4,  6,  8],\n",
       "       [10, 12, 14, 16, 18],\n",
       "       [20, 22, 24, 26, 28],\n",
       "       [30, 32, 34, 36, 38],\n",
       "       [40, 42, 44, 46, 48]])"
      ]
     },
     "execution_count": 49,
     "metadata": {},
     "output_type": "execute_result"
    }
   ],
   "source": [
    "A * 2"
   ]
  },
  {
   "cell_type": "markdown",
   "metadata": {},
   "source": [
    "### Matrix Algebra"
   ]
  },
  {
   "cell_type": "markdown",
   "metadata": {},
   "source": [
    "Matrix multiplication is something that is done very efficiently with `numpy`. There are two methods to perform matrix-matrix, matrix-array or array-array inner products."
   ]
  },
  {
   "cell_type": "markdown",
   "metadata": {},
   "source": [
    "#### 1.Using the `np.dot()` method "
   ]
  },
  {
   "cell_type": "code",
   "execution_count": 50,
   "metadata": {},
   "outputs": [
    {
     "data": {
      "text/plain": [
       "array([[ 150,  160,  170,  180,  190],\n",
       "       [ 400,  435,  470,  505,  540],\n",
       "       [ 650,  710,  770,  830,  890],\n",
       "       [ 900,  985, 1070, 1155, 1240],\n",
       "       [1150, 1260, 1370, 1480, 1590]])"
      ]
     },
     "execution_count": 50,
     "metadata": {},
     "output_type": "execute_result"
    }
   ],
   "source": [
    "np.dot(A,A)"
   ]
  },
  {
   "cell_type": "code",
   "execution_count": 51,
   "metadata": {},
   "outputs": [
    {
     "data": {
      "text/plain": [
       "array([ 30,  80, 130, 180, 230])"
      ]
     },
     "execution_count": 51,
     "metadata": {},
     "output_type": "execute_result"
    }
   ],
   "source": [
    "np.dot(A,v)"
   ]
  },
  {
   "cell_type": "code",
   "execution_count": 52,
   "metadata": {},
   "outputs": [
    {
     "data": {
      "text/plain": [
       "30"
      ]
     },
     "execution_count": 52,
     "metadata": {},
     "output_type": "execute_result"
    }
   ],
   "source": [
    "np.dot(v,v)"
   ]
  },
  {
   "cell_type": "markdown",
   "metadata": {},
   "source": [
    "#### 2. Casting array objects to the `matrix` type "
   ]
  },
  {
   "cell_type": "code",
   "execution_count": 53,
   "metadata": {
    "collapsed": true
   },
   "outputs": [],
   "source": [
    "M = np.matrix(A)\n",
    "v = np.matrix(v).T"
   ]
  },
  {
   "cell_type": "code",
   "execution_count": 54,
   "metadata": {},
   "outputs": [
    {
     "data": {
      "text/plain": [
       "matrix([[0],\n",
       "        [1],\n",
       "        [2],\n",
       "        [3],\n",
       "        [4]])"
      ]
     },
     "execution_count": 54,
     "metadata": {},
     "output_type": "execute_result"
    }
   ],
   "source": [
    "v"
   ]
  },
  {
   "cell_type": "code",
   "execution_count": 55,
   "metadata": {},
   "outputs": [
    {
     "data": {
      "text/plain": [
       "matrix([[ 0,  1,  2,  3,  4],\n",
       "        [ 5,  6,  7,  8,  9],\n",
       "        [10, 11, 12, 13, 14],\n",
       "        [15, 16, 17, 18, 19],\n",
       "        [20, 21, 22, 23, 24]])"
      ]
     },
     "execution_count": 55,
     "metadata": {},
     "output_type": "execute_result"
    }
   ],
   "source": [
    "M"
   ]
  },
  {
   "cell_type": "code",
   "execution_count": 56,
   "metadata": {},
   "outputs": [
    {
     "data": {
      "text/plain": [
       "matrix([[ 150,  160,  170,  180,  190],\n",
       "        [ 400,  435,  470,  505,  540],\n",
       "        [ 650,  710,  770,  830,  890],\n",
       "        [ 900,  985, 1070, 1155, 1240],\n",
       "        [1150, 1260, 1370, 1480, 1590]])"
      ]
     },
     "execution_count": 56,
     "metadata": {},
     "output_type": "execute_result"
    }
   ],
   "source": [
    "M * M"
   ]
  },
  {
   "cell_type": "code",
   "execution_count": 57,
   "metadata": {},
   "outputs": [
    {
     "data": {
      "text/plain": [
       "matrix([[ 30],\n",
       "        [ 80],\n",
       "        [130],\n",
       "        [180],\n",
       "        [230]])"
      ]
     },
     "execution_count": 57,
     "metadata": {},
     "output_type": "execute_result"
    }
   ],
   "source": [
    "M * v"
   ]
  },
  {
   "cell_type": "code",
   "execution_count": 58,
   "metadata": {
    "scrolled": true
   },
   "outputs": [
    {
     "data": {
      "text/plain": [
       "matrix([[ 30],\n",
       "        [ 81],\n",
       "        [132],\n",
       "        [183],\n",
       "        [234]])"
      ]
     },
     "execution_count": 58,
     "metadata": {},
     "output_type": "execute_result"
    }
   ],
   "source": [
    "v + M * v"
   ]
  },
  {
   "cell_type": "markdown",
   "metadata": {},
   "source": [
    "## Basic Data Processing\n",
    "-------------------------------------------------------------------\n",
    "\n",
    "Let us see some basic statistical functions that we can use to perform our data analysis."
   ]
  },
  {
   "cell_type": "code",
   "execution_count": 59,
   "metadata": {
    "scrolled": false
   },
   "outputs": [
    {
     "data": {
      "text/plain": [
       "1000000"
      ]
     },
     "execution_count": 59,
     "metadata": {},
     "output_type": "execute_result"
    }
   ],
   "source": [
    "data = np.random.randn(1000,1000) # Normally distributed data of 100 rows and 100 columns\n",
    "data.size"
   ]
  },
  {
   "cell_type": "code",
   "execution_count": 60,
   "metadata": {},
   "outputs": [
    {
     "data": {
      "text/plain": [
       "4.5378902907133698"
      ]
     },
     "execution_count": 60,
     "metadata": {},
     "output_type": "execute_result"
    }
   ],
   "source": [
    "np.max(data) # largest value in the data"
   ]
  },
  {
   "cell_type": "code",
   "execution_count": 61,
   "metadata": {},
   "outputs": [
    {
     "data": {
      "text/plain": [
       "-4.7455889607879831"
      ]
     },
     "execution_count": 61,
     "metadata": {},
     "output_type": "execute_result"
    }
   ],
   "source": [
    "np.min(data) # smallest value in the data"
   ]
  },
  {
   "cell_type": "code",
   "execution_count": 62,
   "metadata": {},
   "outputs": [
    {
     "data": {
      "text/plain": [
       "-0.0001812269346109499"
      ]
     },
     "execution_count": 62,
     "metadata": {},
     "output_type": "execute_result"
    }
   ],
   "source": [
    "np.mean(data) # Mean value of the given sample"
   ]
  },
  {
   "cell_type": "code",
   "execution_count": 63,
   "metadata": {
    "scrolled": true
   },
   "outputs": [
    {
     "data": {
      "text/plain": [
       "1.0011676326980423"
      ]
     },
     "execution_count": 63,
     "metadata": {},
     "output_type": "execute_result"
    }
   ],
   "source": [
    "np.std(data) # Standard deviation of the sample."
   ]
  },
  {
   "cell_type": "code",
   "execution_count": 64,
   "metadata": {},
   "outputs": [
    {
     "data": {
      "text/plain": [
       "1.0023366287622022"
      ]
     },
     "execution_count": 64,
     "metadata": {},
     "output_type": "execute_result"
    }
   ],
   "source": [
    "np.var(data) # Variance of the sample"
   ]
  },
  {
   "cell_type": "code",
   "execution_count": 65,
   "metadata": {},
   "outputs": [
    {
     "data": {
      "text/plain": [
       "array([ -8.175e+00,   9.504e+00,   1.968e+01,  -1.501e+01,  -1.254e+01,\n",
       "         2.220e+01,  -4.729e-02,  -1.577e+01,   7.207e+01,  -1.220e+01,\n",
       "        -4.624e+00,  -2.701e+01,  -2.670e+01,   6.675e+00,   2.145e+01,\n",
       "         1.731e+01,  -1.848e+01,  -5.344e+00,  -5.778e+01,  -1.537e+01,\n",
       "         7.764e+01,  -2.505e+01,  -1.562e+01,   2.070e+00,  -3.747e+01,\n",
       "        -2.221e+01,  -4.806e+01,   2.009e+01,  -2.519e+01,   3.425e+01,\n",
       "        -1.382e+00,   3.786e+00,   7.317e+01,  -1.220e+01,  -3.344e+01,\n",
       "        -2.234e+01,  -9.970e+00,   1.616e+01,  -2.695e+01,   4.459e+00,\n",
       "        -1.767e+01,   1.147e+01,  -1.341e+01,   3.230e-01,  -1.999e+00,\n",
       "        -6.591e+00,   9.002e+00,  -7.888e+00,  -1.352e+01,  -2.987e+01,\n",
       "        -3.152e+01,  -3.587e+01,   4.851e+01,   2.082e+00,  -1.689e+00,\n",
       "        -1.690e+01,   3.167e+01,  -2.310e+01,  -2.480e+01,   2.956e+01,\n",
       "        -2.213e+01,  -2.078e+01,   2.752e+01,   2.555e+01,   3.384e+01,\n",
       "         2.190e+01,  -2.253e+01,   6.078e+01,   1.001e+01,   4.936e+00,\n",
       "         3.433e+00,   1.320e+01,  -3.890e+01,  -2.194e+01,  -3.936e+01,\n",
       "        -8.324e+00,  -2.947e+00,  -4.693e+01,   4.801e+01,   4.185e+01,\n",
       "        -4.293e-01,  -2.119e+01,   2.634e+01,  -4.909e+01,   6.236e+01,\n",
       "         3.070e+01,  -4.962e+00,   2.177e+01,   1.538e+01,   3.501e+01,\n",
       "        -3.743e+01,   4.627e+01,   1.528e+01,  -5.637e+01,   2.884e+01,\n",
       "        -3.440e+01,   4.798e+01,  -1.429e+00,   6.857e+00,   3.537e+01,\n",
       "         7.698e+00,   3.198e+00,   3.303e+01,  -2.566e+01,   1.820e+01,\n",
       "        -8.254e+01,   1.398e+00,   3.537e+01,  -1.844e+01,  -1.106e+00,\n",
       "        -2.430e+01,   6.093e+01,  -1.244e+01,   5.513e+01,   5.119e+01,\n",
       "         7.235e+01,   1.644e+01,  -6.737e+00,   3.498e+01,   1.828e+01,\n",
       "         9.899e+00,   8.410e+01,   3.193e+01,  -6.117e+01,  -3.091e+01,\n",
       "        -1.076e+01,   1.214e+01,  -4.532e+01,   7.329e+00,   1.941e+01,\n",
       "        -1.639e+01,  -6.697e+01,   2.926e+01,   2.026e+01,   2.244e+01,\n",
       "         1.131e+01,  -3.508e+01,  -4.185e+01,   2.124e+01,  -3.662e+00,\n",
       "        -4.008e+01,  -3.292e+01,   3.229e+01,  -3.919e+01,   4.795e+01,\n",
       "         4.610e+01,  -6.394e+01,  -7.526e+00,  -3.004e+01,  -3.809e+01,\n",
       "         2.674e+01,  -1.583e+01,  -6.037e+01,   1.011e+01,  -4.159e+01,\n",
       "         3.748e+01,  -5.178e+01,  -3.361e+01,  -3.576e+01,  -5.188e+01,\n",
       "        -5.284e+00,  -1.040e+01,   1.803e+01,   6.593e+01,   1.161e+01,\n",
       "         2.503e+01,  -9.553e+00,  -1.672e+01,  -2.227e+01,  -1.895e+01,\n",
       "        -1.707e+01,   1.299e+00,   6.443e+00,   4.580e+00,   3.121e+01,\n",
       "        -5.279e+01,  -6.056e+00,  -5.419e+01,  -4.686e+00,  -1.331e+01,\n",
       "        -2.603e+01,   7.461e+00,  -5.887e+01,  -1.236e+01,  -5.102e+01,\n",
       "        -2.070e+01,   4.706e+01,  -8.483e+00,  -1.676e+01,   3.156e+01,\n",
       "         4.960e+01,   5.601e+01,  -2.023e+01,  -5.931e+01,  -5.059e+01,\n",
       "        -9.766e+00,   2.769e+01,   3.294e+00,   8.079e+00,  -1.759e+01,\n",
       "         9.976e+00,   5.934e+01,  -5.628e+01,  -8.798e+01,  -4.818e+00,\n",
       "         1.478e+01,   1.453e+01,   3.656e+01,   2.282e+01,  -1.967e+01,\n",
       "        -3.706e+01,   2.998e+01,  -3.860e+01,   7.306e+01,  -1.414e+01,\n",
       "         1.125e+01,  -2.143e+01,   7.613e+01,   3.043e+01,  -2.277e+01,\n",
       "        -1.013e+01,  -1.320e+01,  -1.320e+01,   3.121e+01,   4.149e+01,\n",
       "         1.060e+02,  -3.779e+00,   4.127e+01,  -2.096e+01,   2.282e+01,\n",
       "         2.667e+01,   2.765e+01,   2.942e+00,  -5.595e+01,  -1.425e+01,\n",
       "         2.148e+01,  -4.563e+01,   9.836e+00,  -1.750e+01,  -1.006e+01,\n",
       "         7.109e-01,   8.266e+00,   3.059e+01,   2.517e+01,  -1.016e+01,\n",
       "         1.824e+01,   1.924e+01,  -1.963e+01,   2.618e+01,  -1.349e+01,\n",
       "         8.511e+00,   3.280e+00,  -1.840e+00,  -1.179e+01,   3.871e+01,\n",
       "        -1.811e+01,  -1.457e+01,  -2.167e+01,   4.501e+00,  -2.348e+01,\n",
       "        -1.167e+01,   3.706e+00,  -4.540e+01,  -2.080e+01,  -1.137e+00,\n",
       "         3.076e+01,  -3.562e+01,  -7.897e+00,  -7.040e+00,  -9.607e+00,\n",
       "         3.491e+01,   1.655e+01,  -3.116e+01,  -1.654e-01,  -1.475e+01,\n",
       "        -7.122e+01,  -2.768e+01,   5.391e+00,  -4.580e+01,  -1.410e+00,\n",
       "        -5.908e+01,   6.216e+00,   2.097e+01,   1.015e+01,  -3.822e+01,\n",
       "         1.868e+00,  -1.942e+01,   1.655e+01,   1.211e+01,  -1.307e+01,\n",
       "        -3.050e+01,   3.467e+01,   2.020e+01,  -1.810e+01,  -3.880e+01,\n",
       "        -3.194e+01,  -1.905e+00,  -3.507e+01,  -8.019e-01,   5.797e+00,\n",
       "         4.341e+01,  -2.791e+00,   5.323e+01,  -8.631e+01,  -1.371e+01,\n",
       "         2.439e+00,   1.425e+01,  -6.509e+00,   3.005e+01,   9.446e+00,\n",
       "         7.081e+00,   6.350e+01,  -2.761e+01,  -6.508e+01,   3.385e+00,\n",
       "        -4.365e+01,  -3.017e+00,  -6.214e+01,  -6.834e+01,   4.649e+01,\n",
       "         1.236e+01,  -2.203e+00,   3.764e+01,  -4.273e+01,  -1.370e+01,\n",
       "        -5.464e+01,  -8.519e+00,  -3.604e+01,  -1.996e+01,  -4.227e+01,\n",
       "         4.082e+01,   3.352e+01,   2.305e+01,  -2.789e+01,   2.376e+01,\n",
       "         3.362e+01,   1.982e+01,   1.623e+01,   1.425e+01,   2.877e-01,\n",
       "         4.691e+01,   9.508e+01,  -4.157e+00,  -4.661e+01,   1.112e+01,\n",
       "        -2.346e+00,   7.580e-01,   2.756e+01,  -2.728e+00,   3.783e+01,\n",
       "         7.373e+01,   2.675e+01,   1.859e+01,   6.536e+01,  -5.901e+01,\n",
       "        -1.465e+01,   1.453e+01,   4.017e+01,   2.260e+01,  -3.161e+01,\n",
       "        -2.131e+01,  -1.306e-01,  -9.036e+00,   4.862e+01,   2.965e+01,\n",
       "         4.024e+01,   7.487e+00,   5.614e+00,   1.543e+00,   4.322e+01,\n",
       "        -5.925e+01,  -1.883e+01,  -2.768e+01,   2.651e+00,  -9.545e-01,\n",
       "        -3.438e+00,   1.545e+01,   2.708e+01,   1.747e+01,  -1.345e+01,\n",
       "         4.053e-01,  -7.094e+00,  -2.602e+01,   3.244e+01,  -6.955e+00,\n",
       "        -2.142e+01,  -3.051e+01,   2.927e+01,   6.784e+01,   3.481e+00,\n",
       "         6.039e+01,   5.673e-01,  -3.426e+01,   2.426e+01,   2.750e+01,\n",
       "        -5.310e+01,   1.749e+01,  -1.497e+01,   1.317e+01,   2.198e+01,\n",
       "         1.553e+01,  -6.490e+00,   4.703e+01,   1.580e+01,  -1.873e+01,\n",
       "         3.188e+01,  -2.190e+01,  -1.412e+00,  -7.811e+00,  -4.812e+01,\n",
       "         2.220e+01,   7.954e+00,  -1.913e+01,   2.509e+01,   1.961e+01,\n",
       "         2.560e+01,   8.061e+00,   1.453e+01,  -1.207e+01,   5.614e+01,\n",
       "        -3.457e+00,  -2.897e+01,   9.785e+00,  -3.262e+01,   2.666e+01,\n",
       "         1.096e+01,  -7.529e+00,  -2.541e+01,  -2.983e+00,  -9.246e+00,\n",
       "         1.354e+01,  -6.017e+01,   3.392e+01,  -5.652e+01,  -4.088e+01,\n",
       "         2.971e+01,   1.091e+01,  -4.197e+01,  -2.730e+00,  -7.469e-02,\n",
       "         3.302e+01,   1.183e+00,  -1.765e+01,  -2.980e+01,  -3.856e+01,\n",
       "         2.338e+01,  -2.979e+01,   5.308e+01,  -1.374e+01,  -9.243e+00,\n",
       "         2.267e+00,  -1.527e+01,   2.366e+01,  -1.016e+01,  -1.859e+01,\n",
       "         1.175e+01,   1.738e+01,  -7.592e+00,   1.136e+00,   1.090e+01,\n",
       "        -1.601e+01,  -7.400e+01,   2.881e+01,   5.788e+00,   6.756e+00,\n",
       "        -2.490e+00,   2.384e+01,   5.611e+01,   1.357e+00,   2.641e+01,\n",
       "         4.121e+01,  -5.887e+01,   4.505e+01,  -3.120e-01,   4.180e+01,\n",
       "        -5.447e+01,   2.946e+01,  -4.497e+01,  -6.801e+00,  -4.844e+01,\n",
       "         9.195e+00,   2.180e+00,  -2.133e+01,   4.771e+01,   4.928e+01,\n",
       "        -8.653e+00,   2.025e+01,  -3.379e+00,  -1.264e+01,  -2.512e+01,\n",
       "        -8.352e+00,   6.232e+01,  -6.429e+01,  -8.779e+00,  -5.754e+01,\n",
       "         2.028e+01,   4.332e+00,  -1.433e+01,  -1.637e+01,   2.968e+01,\n",
       "        -3.618e+01,  -9.459e+00,  -3.539e+01,   4.194e+00,  -1.150e+01,\n",
       "         4.267e+01,  -3.812e+00,   1.344e-01,   1.010e+01,  -2.391e+01,\n",
       "        -8.978e+00,  -1.736e+01,  -1.305e+01,   2.406e+01,   4.835e+00,\n",
       "        -7.951e+00,  -1.604e+01,  -4.855e+00,   1.369e+01,   2.837e+01,\n",
       "        -1.695e+01,  -7.068e+00,   1.784e+00,  -6.561e+01,   1.889e+01,\n",
       "         1.456e+01,  -3.625e+01,   2.158e+01,   3.465e+01,  -2.174e+01,\n",
       "         2.002e+01,  -5.103e+00,  -5.650e+00,  -6.890e+01,   2.686e+01,\n",
       "         8.714e+01,   4.603e+01,   2.375e+01,  -5.137e+00,   4.907e+01,\n",
       "        -4.404e+01,   1.432e+00,  -2.161e+01,  -2.525e+01,   1.543e+00,\n",
       "        -1.201e+01,  -2.569e+01,  -3.632e+00,  -2.467e+01,   2.646e-01,\n",
       "        -6.245e+01,   1.592e+01,   3.244e+01,  -4.987e+01,   1.241e+01,\n",
       "         4.725e+01,   1.301e+01,   1.836e+01,   5.501e+01,  -2.152e+00,\n",
       "        -2.688e+01,   4.440e+01,  -9.555e+00,   1.461e+01,  -3.907e+01,\n",
       "        -5.090e+01,   1.521e+01,  -4.627e+01,  -2.332e+01,  -3.447e+01,\n",
       "        -2.200e+01,   4.673e+00,   7.772e+01,   5.463e+01,  -4.016e+01,\n",
       "        -3.925e+00,  -2.161e+01,  -9.607e+00,   5.237e+01,   1.172e+01,\n",
       "         3.404e+01,  -3.545e+01,  -6.218e+01,   2.957e+01,  -2.006e+00,\n",
       "        -5.291e+01,  -5.207e+01,   3.031e+01,  -6.218e+01,   2.784e+01,\n",
       "        -2.473e+01,   1.084e+01,   5.481e+01,   2.446e+01,  -1.985e+01,\n",
       "        -5.826e+01,   1.381e+01,   4.594e+00,   4.579e+00,  -8.015e+01,\n",
       "         1.766e+01,  -2.683e+01,  -5.496e+01,   9.632e+00,  -2.361e+01,\n",
       "         9.528e+00,   3.309e+01,  -2.533e+01,   9.031e+00,   2.139e+01,\n",
       "        -2.931e+01,   1.738e+01,  -4.514e+01,   4.735e+01,  -1.564e+00,\n",
       "         3.361e+00,  -3.509e+01,  -1.024e+01,  -4.545e+01,  -5.581e+00,\n",
       "        -1.333e+01,  -3.126e+01,   1.803e+01,   3.447e+01,   3.767e+01,\n",
       "         3.658e+01,  -2.835e+00,   6.155e+01,  -4.624e+01,  -9.646e+01,\n",
       "        -7.424e+00,  -8.343e+00,  -1.647e+01,   4.730e+01,  -9.295e-01,\n",
       "        -1.121e+01,   3.789e+01,   1.771e+01,   3.176e+01,   1.473e-01,\n",
       "         1.559e+01,   6.954e+00,   6.273e+00,  -2.164e+01,  -1.469e+01,\n",
       "        -1.825e+01,   3.464e+01,  -7.916e+00,   3.399e+01,   8.407e+01,\n",
       "        -2.737e+01,   2.541e+01,  -5.046e+01,  -3.755e+01,   1.102e+01,\n",
       "         6.827e+01,   3.464e+01,  -6.065e+01,  -3.451e+01,   2.011e+01,\n",
       "        -3.320e+00,  -5.605e+01,   1.568e+01,   3.902e+00,   4.260e+01,\n",
       "        -8.226e+00,   4.294e+01,  -3.952e+01,   2.857e+01,   6.063e+01,\n",
       "         3.726e+01,   1.060e+01,  -2.624e+01,   4.093e+01,   4.266e+01,\n",
       "        -3.525e+01,   2.114e+01,  -3.475e+01,   8.692e+00,  -1.235e+01,\n",
       "        -3.350e+00,   7.546e+00,  -6.458e+00,  -2.430e+01,   4.374e+01,\n",
       "        -1.851e+01,   4.563e+01,   4.216e+01,  -4.316e+01,   6.926e+00,\n",
       "         3.540e+01,   5.830e+01,   2.969e+01,  -4.640e+01,   1.332e+01,\n",
       "         1.625e+01,   7.623e+00,  -2.332e+01,  -4.841e+01,  -5.053e+01,\n",
       "        -6.268e+01,   2.975e+00,   9.169e+00,   2.884e+01,   2.992e+01,\n",
       "        -3.924e+01,   2.391e+01,  -2.652e+01,  -4.911e+01,  -2.320e+01,\n",
       "         6.363e+01,   1.999e+01,   3.342e+01,  -5.152e+01,  -3.100e+01,\n",
       "        -2.480e+01,   5.528e+00,   9.098e+00,   3.399e+01,   6.964e+00,\n",
       "        -1.190e+01,  -1.429e+01,  -1.647e+01,   3.812e+01,   3.936e+01,\n",
       "        -5.560e+00,   2.855e+01,  -7.265e+01,   1.191e+01,   9.432e+00,\n",
       "         2.099e+01,   4.292e+01,   1.873e+01,   1.748e+01,   1.807e+01,\n",
       "         4.567e+00,  -6.732e+00,   1.358e+01,  -6.534e+00,   2.653e+01,\n",
       "        -3.385e+00,   3.404e+00,   4.388e+01,  -1.563e+01,   1.546e+01,\n",
       "         2.119e+01,   3.481e+01,  -9.911e-01,  -2.528e+01,  -6.522e+01,\n",
       "         8.676e+01,   4.161e+01,  -1.720e+01,   5.706e+01,   3.813e+01,\n",
       "         1.274e+01,   2.284e+01,  -8.348e-01,  -2.119e+01,   2.976e+01,\n",
       "         4.308e+01,   2.798e+01,  -4.568e+01,   3.121e+01,  -6.203e+00,\n",
       "         6.109e+01,  -1.218e+01,  -5.054e+00,   5.884e+01,   6.433e+00,\n",
       "        -3.543e+01,  -4.914e+01,  -2.291e+01,  -4.137e+01,  -3.662e+00,\n",
       "         3.659e+01,   4.287e+01,   6.676e+01,   1.105e+00,  -3.099e+00,\n",
       "         1.824e+00,   6.634e+01,  -3.506e+01,  -3.472e+01,   5.519e+01,\n",
       "        -1.260e+01,   1.441e+01,  -4.608e+00,  -1.164e+00,   1.908e+01,\n",
       "         1.881e+01,   2.379e+01,   7.656e+01,   3.593e+01,   2.423e+01,\n",
       "         1.029e+01,  -5.008e+00,  -1.213e+01,  -4.049e+01,  -5.178e+01,\n",
       "        -6.068e+00,  -1.069e+01,  -1.307e+01,  -4.328e+01,  -1.245e+01,\n",
       "        -3.682e+00,  -2.902e+01,   6.696e+00,  -1.891e+01,  -6.638e+00,\n",
       "        -2.497e+01,   7.691e-02,  -2.624e+01,   3.847e+01,  -1.552e+01,\n",
       "        -4.520e+01,  -1.625e+01,  -5.555e+01,   4.187e+01,  -3.419e+01,\n",
       "         3.756e+01,  -1.868e+01,   1.031e+01,   4.375e+01,  -3.842e+01,\n",
       "         1.000e+01,   4.180e+01,  -5.224e+01,  -1.613e+01,  -4.615e+01,\n",
       "        -3.243e+01,   7.886e+01,   2.779e+00,  -5.539e+00,  -9.477e+00,\n",
       "        -3.197e+01,   2.296e+01,  -1.875e+01,   2.025e+01,  -1.117e+01,\n",
       "         3.991e+00,   9.546e+00,  -4.284e+01,  -6.325e+01,  -5.809e+01,\n",
       "         5.227e+01,  -8.098e+00,   2.424e+01,  -9.464e+00,  -3.787e+01,\n",
       "        -9.460e-01,   1.283e+01,  -8.914e+00,  -2.079e+01,  -1.434e+01,\n",
       "         4.295e+01,   1.230e+00,   1.647e+01,  -2.740e+01,   2.500e+01,\n",
       "         1.282e+01,   4.564e+00,  -4.283e+01,  -1.486e+01,  -1.169e+01,\n",
       "        -1.809e+01,   7.028e+01,  -2.292e+01,   1.185e+01,   1.665e+01,\n",
       "         1.676e+01,   3.489e+00,   8.509e+00,   1.841e+01,   1.815e+01,\n",
       "        -2.535e+01,   6.004e+01,  -7.337e+00,   5.687e+00,   9.418e+00,\n",
       "        -3.093e+01,  -1.016e+02,   7.419e+01,  -2.652e+00,  -2.528e+01,\n",
       "        -5.365e+00,   2.011e+01,   2.122e+01,  -1.778e+01,  -4.048e+01,\n",
       "         1.255e+01,   1.135e+01,  -2.923e+01,  -2.650e+01,  -5.034e+01,\n",
       "         1.470e+01,   3.758e+00,  -1.832e+01,   3.659e+01,  -1.192e+01,\n",
       "        -1.507e+00,  -1.455e+01,   4.075e+00,   1.677e+01,   2.405e+00,\n",
       "        -1.033e+01,   1.629e+01,  -2.394e+00,   5.537e+01,  -5.229e+01,\n",
       "         7.234e+01,   2.726e+01,  -7.892e+00,  -3.141e+00,   2.726e+01,\n",
       "         3.192e+01,   2.419e+00,  -2.847e+01,  -2.301e+01,   1.024e+01,\n",
       "        -3.354e+00,   3.072e+01,   5.100e+00,  -1.211e+01,  -9.990e+00,\n",
       "        -8.381e-01,   1.955e-01,   1.004e+01,   4.056e+01,  -7.310e+00,\n",
       "        -8.941e+00,  -1.665e+01,   3.060e+00,  -1.148e+00,   1.491e+01,\n",
       "         2.888e+01,  -2.821e+01,  -5.049e+01,   1.705e+01,  -3.995e+01,\n",
       "         1.987e+01,   1.689e+01,  -7.886e+00,  -3.122e+01,   2.537e+01,\n",
       "         3.560e+01,   2.283e+01,  -8.053e+01,  -2.808e+01,   1.458e+00,\n",
       "         8.303e+00,   2.079e+01,  -6.159e+00,  -3.772e+01,   4.673e+01,\n",
       "        -3.825e+00,  -1.394e+01,  -2.919e+00,  -5.691e+01,  -1.101e+01,\n",
       "        -5.299e+01,   3.161e+01,  -3.844e+01,  -2.287e+01,  -2.034e+01,\n",
       "         1.996e+01,  -1.595e+00,   2.098e+01,  -3.045e-01,  -3.169e+01,\n",
       "        -1.356e+01,   5.476e+01,   1.983e+01,  -1.510e+01,   4.084e+01,\n",
       "        -1.297e+01,  -3.236e+01,  -3.601e+00,  -5.276e+01,  -4.521e+01,\n",
       "         1.400e+01,  -9.406e+01,  -3.668e+01,  -1.939e+01,   4.620e+01,\n",
       "        -1.871e+01,  -1.539e+01,  -3.907e+01,  -1.883e+01,  -2.240e+01,\n",
       "        -2.706e+01,   2.907e+01,   8.574e+01,  -4.437e+01,  -4.287e+00,\n",
       "        -9.027e+00,   5.931e+00,   2.719e+01,  -1.407e+01,   3.304e+01])"
      ]
     },
     "execution_count": 65,
     "metadata": {},
     "output_type": "execute_result"
    }
   ],
   "source": [
    "np.sum(data, axis=1)"
   ]
  },
  {
   "cell_type": "markdown",
   "metadata": {},
   "source": [
    "## Further Reading\n",
    "-------------------------------------------------------------------"
   ]
  }
 ],
 "metadata": {
  "kernelspec": {
   "display_name": "Python 3",
   "language": "python",
   "name": "python3"
  },
  "language_info": {
   "codemirror_mode": {
    "name": "ipython",
    "version": 3
   },
   "file_extension": ".py",
   "mimetype": "text/x-python",
   "name": "python",
   "nbconvert_exporter": "python",
   "pygments_lexer": "ipython3",
   "version": "3.6.1"
  }
 },
 "nbformat": 4,
 "nbformat_minor": 2
}
