{
 "cells": [
  {
   "cell_type": "markdown",
   "metadata": {},
   "source": [
    "# NumPy\n",
    "-------------------------------------------------------------------\n",
    "\n",
    "Kushal Keshavamurthy Raviprakash\n",
    "\n",
    "kushalkr2992@gmail.com\n",
    "\n",
    "This notebook is a part of the [Python for Earth and Atmospheric Sciences](https://github.com/Kushalkr/Python_for_Earth_and_Atmospheric_Sciences) workshop.\n",
    "\n",
    "Disclaimer: Most of the material in this notebook is derived from [Lectures on Scientific Computing with Python](http://github.com/jrjohansson/scientific-python-lectures) by Robert Johannsson."
   ]
  },
  {
   "cell_type": "code",
   "execution_count": 1,
   "metadata": {
    "collapsed": true
   },
   "outputs": [],
   "source": [
    "%matplotlib inline \n",
    "import matplotlib.pyplot as plt # Don't worry about these two lines. \n",
    "                                #I'll explain in the future lectures"
   ]
  },
  {
   "cell_type": "markdown",
   "metadata": {},
   "source": [
    "## Introduction\n",
    "-------------------------------------------------------------------\n",
    "\n",
    "**NumPy** stands for **N**umerical **Py**thon. <img height=\"100\" src=\"images/numpy.png\" style=\"float: right\" />\n",
    "\n",
    "It is part of what is called the **Sci**entific **P**ython Stack or **SciPy** stack for short. The scipy stack is a collection of packages such as NumPy, SciPy, matplotlib, SymPy, Pandas which work well together and are used extensively in the scientific community.\n",
    "\n",
    "the `numpy` package (module) is an extension module to pure python and is used in almost all numerical computation done using python.\n",
    "\n",
    "The `numpy` package provides high-performance vector, matrix and higher directional structures which are optimized for performance."
   ]
  },
  {
   "cell_type": "markdown",
   "metadata": {},
   "source": [
    "As mentioned in the last lecture, `numpy` is a package. It is not available in pure python by default and has to imported.\n",
    "\n",
    "We can import the `numpy` module using any of the methods mentioned below:\n",
    "\n",
    "```py\n",
    "import numpy\n",
    "```\n",
    "methods are invoked with the syntax: `numpy.array()` etc...\n",
    "```py\n",
    "from numpy import *\n",
    "```\n",
    "no need to use dot `(.)` notation in this case. Ex.: `array()` suffices\n",
    "```py\n",
    "import numpy as np\n",
    "```\n",
    "the first way of importing is the better way but, it is too long. With this form of importing, we can invoke methods using the syntax: `np.array()`.\n",
    "\n",
    "The reason the first and the third way of importing the `numpy` module or for that matter any module is best because it does not leave any room for conflict.\n",
    "\n",
    "For Example, if you import both the `math` and the `numpy` module using the second method, \n",
    "there will be a conflict as to which definition of the *sine* function is used since both modules contain definitions of the *sine* function."
   ]
  },
  {
   "cell_type": "markdown",
   "metadata": {},
   "source": [
    "Let's jump into working with the methods and structures in the `numpy` module. \n",
    "\n",
    "Before doing anything, we need to import the `numpy` module."
   ]
  },
  {
   "cell_type": "code",
   "execution_count": 2,
   "metadata": {
    "collapsed": true
   },
   "outputs": [],
   "source": [
    "import numpy as np # importing the numpy module\n",
    "np.set_printoptions(precision=3) # this is to make the output look pretty"
   ]
  },
  {
   "cell_type": "markdown",
   "metadata": {},
   "source": [
    ".Vectors, matrices and multi-dimension data are all called **arrays** in numpy."
   ]
  },
  {
   "cell_type": "code",
   "execution_count": 3,
   "metadata": {},
   "outputs": [
    {
     "data": {
      "text/plain": [
       "'1.13.0'"
      ]
     },
     "execution_count": 3,
     "metadata": {},
     "output_type": "execute_result"
    }
   ],
   "source": [
    "np.__version__"
   ]
  },
  {
   "cell_type": "markdown",
   "metadata": {},
   "source": [
    "## Creating Numpy arrays\n",
    "-------------------------------------------------------------------\n",
    "\n",
    "You can create numpy arrays in a number of ways. Some of the methods are:\n",
    "* By converting lists and tuples\n",
    "* Using array creation functions defined in the `numpy` module. Ex.: `np.linspace()`, `np.arange()` etc....\n",
    "* Reading data from files and the converting it to array form."
   ]
  },
  {
   "cell_type": "markdown",
   "metadata": {},
   "source": [
    "### Converting lists and tuples\n",
    "\n",
    "To create a vector or matrix, use the `np.array()` function with the list as the argument."
   ]
  },
  {
   "cell_type": "code",
   "execution_count": 4,
   "metadata": {},
   "outputs": [
    {
     "data": {
      "text/plain": [
       "array([1, 2, 3, 4, 5])"
      ]
     },
     "execution_count": 4,
     "metadata": {},
     "output_type": "execute_result"
    }
   ],
   "source": [
    "v = np.array([1, 2, 3, 4, 5])\n",
    "\n",
    "v"
   ]
  },
  {
   "cell_type": "markdown",
   "metadata": {},
   "source": [
    "A matrix created by providing a nested list or tuple as argument."
   ]
  },
  {
   "cell_type": "code",
   "execution_count": 5,
   "metadata": {},
   "outputs": [
    {
     "data": {
      "text/plain": [
       "array([[1, 2],\n",
       "       [3, 4]])"
      ]
     },
     "execution_count": 5,
     "metadata": {},
     "output_type": "execute_result"
    }
   ],
   "source": [
    "M = np.array([[1, 2],[3, 4]])\n",
    "M"
   ]
  },
  {
   "cell_type": "markdown",
   "metadata": {},
   "source": [
    "the vector `v` and matrix `M`, both have the same type of `ndarray`."
   ]
  },
  {
   "cell_type": "code",
   "execution_count": 6,
   "metadata": {},
   "outputs": [
    {
     "data": {
      "text/plain": [
       "(numpy.ndarray, numpy.ndarray)"
      ]
     },
     "execution_count": 6,
     "metadata": {},
     "output_type": "execute_result"
    }
   ],
   "source": [
    "type(v), type(M)"
   ]
  },
  {
   "cell_type": "markdown",
   "metadata": {},
   "source": [
    "We can see the **size** (# of elements in the entire array) and **shape** (# of elements in each dimension) of arrays using the `size` and `shape` attribute of the array respectively."
   ]
  },
  {
   "cell_type": "code",
   "execution_count": 7,
   "metadata": {},
   "outputs": [
    {
     "name": "stdout",
     "output_type": "stream",
     "text": [
      "5 4\n"
     ]
    }
   ],
   "source": [
    "print(v.size, M.size)"
   ]
  },
  {
   "cell_type": "code",
   "execution_count": 8,
   "metadata": {},
   "outputs": [
    {
     "name": "stdout",
     "output_type": "stream",
     "text": [
      "(5,) (2, 2)\n"
     ]
    }
   ],
   "source": [
    "print(v.shape, M.shape)"
   ]
  },
  {
   "cell_type": "markdown",
   "metadata": {},
   "source": [
    "the arrays we created look very similar to lists. Why don't we use lists directly?\n",
    "\n",
    "The main reason is that lists are very general and because of dynamic typing, they can contain any type of data. As a result, implementing functions which handle multiple data types becomes difficult.\n",
    "\n",
    "NumPy is statically typed. Meaning, all the elements of the array will have the same type. This allows us to implement optimized functions using compiled languages such as C and FORTRAN."
   ]
  },
  {
   "cell_type": "markdown",
   "metadata": {},
   "source": [
    "### Using array generating functions"
   ]
  },
  {
   "cell_type": "markdown",
   "metadata": {},
   "source": [
    "#### `np.arange()`"
   ]
  },
  {
   "cell_type": "code",
   "execution_count": 9,
   "metadata": {},
   "outputs": [
    {
     "name": "stdout",
     "output_type": "stream",
     "text": [
      "[ 0.   0.1  0.2  0.3  0.4  0.5  0.6  0.7  0.8  0.9]\n",
      "[ 0 10 20 30 40 50 60 70 80 90]\n"
     ]
    }
   ],
   "source": [
    "a = np.arange(0, 1, 0.1) # arguments: start, stop, step\n",
    "# It is similar to the range function. Except, you can get float arrays too.\n",
    "print(a)\n",
    "a = np.arange(0, 100, 10)\n",
    "print(a)"
   ]
  },
  {
   "cell_type": "markdown",
   "metadata": {},
   "source": [
    "#### `np.linspace()` and `np.logspace()`"
   ]
  },
  {
   "cell_type": "code",
   "execution_count": 10,
   "metadata": {},
   "outputs": [
    {
     "name": "stdout",
     "output_type": "stream",
     "text": [
      "[ 0.     0.111  0.222  0.333  0.444  0.556  0.667  0.778  0.889  1.   ]\n"
     ]
    }
   ],
   "source": [
    "b = np.linspace(0,1,10)\n",
    "print(b)"
   ]
  },
  {
   "cell_type": "code",
   "execution_count": 11,
   "metadata": {
    "scrolled": true
   },
   "outputs": [
    {
     "data": {
      "text/plain": [
       "array([  1.000e+00,   1.000e+01,   1.000e+02,   1.000e+03,   1.000e+04,\n",
       "         1.000e+05,   1.000e+06,   1.000e+07,   1.000e+08,   1.000e+09,\n",
       "         1.000e+10])"
      ]
     },
     "execution_count": 11,
     "metadata": {},
     "output_type": "execute_result"
    }
   ],
   "source": [
    "b = np.logspace(0,10,11, base=10)\n",
    "b"
   ]
  },
  {
   "cell_type": "markdown",
   "metadata": {},
   "source": [
    "#### `np.mgrid()` (Similar to `meshgrid()` in MATLAB)"
   ]
  },
  {
   "cell_type": "code",
   "execution_count": 12,
   "metadata": {
    "collapsed": true
   },
   "outputs": [],
   "source": [
    "x, y =np.mgrid[0:5, 0:5]"
   ]
  },
  {
   "cell_type": "code",
   "execution_count": 13,
   "metadata": {},
   "outputs": [
    {
     "data": {
      "text/plain": [
       "array([[0, 0, 0, 0, 0],\n",
       "       [1, 1, 1, 1, 1],\n",
       "       [2, 2, 2, 2, 2],\n",
       "       [3, 3, 3, 3, 3],\n",
       "       [4, 4, 4, 4, 4]])"
      ]
     },
     "execution_count": 13,
     "metadata": {},
     "output_type": "execute_result"
    }
   ],
   "source": [
    "x"
   ]
  },
  {
   "cell_type": "code",
   "execution_count": 14,
   "metadata": {
    "scrolled": false
   },
   "outputs": [
    {
     "data": {
      "text/plain": [
       "array([[0, 1, 2, 3, 4],\n",
       "       [0, 1, 2, 3, 4],\n",
       "       [0, 1, 2, 3, 4],\n",
       "       [0, 1, 2, 3, 4],\n",
       "       [0, 1, 2, 3, 4]])"
      ]
     },
     "execution_count": 14,
     "metadata": {},
     "output_type": "execute_result"
    }
   ],
   "source": [
    "y"
   ]
  },
  {
   "cell_type": "markdown",
   "metadata": {},
   "source": [
    "#### `np.diag()`"
   ]
  },
  {
   "cell_type": "code",
   "execution_count": 15,
   "metadata": {},
   "outputs": [
    {
     "data": {
      "text/plain": [
       "array([[1, 0, 0],\n",
       "       [0, 2, 0],\n",
       "       [0, 0, 3]])"
      ]
     },
     "execution_count": 15,
     "metadata": {},
     "output_type": "execute_result"
    }
   ],
   "source": [
    "np.diag([1, 2, 3])"
   ]
  },
  {
   "cell_type": "markdown",
   "metadata": {},
   "source": [
    "#### `np.zeros()` and `np.ones()`"
   ]
  },
  {
   "cell_type": "code",
   "execution_count": 16,
   "metadata": {},
   "outputs": [
    {
     "data": {
      "text/plain": [
       "array([[ 0.,  0.,  0.],\n",
       "       [ 0.,  0.,  0.],\n",
       "       [ 0.,  0.,  0.]])"
      ]
     },
     "execution_count": 16,
     "metadata": {},
     "output_type": "execute_result"
    }
   ],
   "source": [
    "np.zeros((3,3))"
   ]
  },
  {
   "cell_type": "code",
   "execution_count": 17,
   "metadata": {},
   "outputs": [
    {
     "data": {
      "text/plain": [
       "array([[ 1.,  1.,  1.,  1.,  1.],\n",
       "       [ 1.,  1.,  1.,  1.,  1.],\n",
       "       [ 1.,  1.,  1.,  1.,  1.],\n",
       "       [ 1.,  1.,  1.,  1.,  1.],\n",
       "       [ 1.,  1.,  1.,  1.,  1.]])"
      ]
     },
     "execution_count": 17,
     "metadata": {},
     "output_type": "execute_result"
    }
   ],
   "source": [
    "np.ones((5,5))"
   ]
  },
  {
   "cell_type": "markdown",
   "metadata": {},
   "source": [
    "### Reading from files"
   ]
  },
  {
   "cell_type": "markdown",
   "metadata": {},
   "source": [
    "We will read in data from from the file `sample.txt` and put the data into an array."
   ]
  },
  {
   "cell_type": "code",
   "execution_count": 18,
   "metadata": {
    "collapsed": true
   },
   "outputs": [],
   "source": [
    "data = np.loadtxt('data/sample.txt', delimiter=',')"
   ]
  },
  {
   "cell_type": "code",
   "execution_count": 19,
   "metadata": {
    "scrolled": true
   },
   "outputs": [
    {
     "name": "stdout",
     "output_type": "stream",
     "text": [
      "float64\n",
      "(100, 2)\n"
     ]
    }
   ],
   "source": [
    "print(data.dtype)\n",
    "print(data.shape)"
   ]
  },
  {
   "cell_type": "markdown",
   "metadata": {},
   "source": [
    "Let me show you what the data looks like. Don't be daunted by the weird code. You will underestand it in the next lecture."
   ]
  },
  {
   "cell_type": "code",
   "execution_count": 20,
   "metadata": {},
   "outputs": [
    {
     "data": {
      "text/plain": [
       "(-7.6719695703244994, 13.537726962634501, -10.488120277751001, 18.206316764531)"
      ]
     },
     "execution_count": 20,
     "metadata": {},
     "output_type": "execute_result"
    },
    {
     "data": {
      "image/png": "[encoded data removed]",
      "text/plain": [
       "<matplotlib.figure.Figure at 0x114c01358>"
      ]
     },
     "metadata": {},
     "output_type": "display_data"
    }
   ],
   "source": [
    "fig, ax = plt.subplots(figsize=(6,6))\n",
    "ax.plot(data[:,0], data[:,1])\n",
    "ax.axis('equal')"
   ]
  },
  {
   "cell_type": "markdown",
   "metadata": {},
   "source": [
    "## Manipulating Numpy arrays\n",
    "-------------------------------------------------------------------"
   ]
  },
  {
   "cell_type": "markdown",
   "metadata": {},
   "source": [
    "### Indexing"
   ]
  },
  {
   "cell_type": "markdown",
   "metadata": {},
   "source": [
    "Indexing of elements in an array is done by providing indices within square brackets."
   ]
  },
  {
   "cell_type": "code",
   "execution_count": 21,
   "metadata": {
    "scrolled": true
   },
   "outputs": [
    {
     "data": {
      "text/plain": [
       "array([  0.,   1.,   2.,   3.,   4.,   5.,   6.,   7.,   8.,   9.,  10.,\n",
       "        11.,  12.,  13.,  14.,  15.,  16.,  17.,  18.,  19.,  20.])"
      ]
     },
     "execution_count": 21,
     "metadata": {},
     "output_type": "execute_result"
    }
   ],
   "source": [
    "# Definition of the vector a.\n",
    "a = np.linspace(0,20, 21, endpoint=True)\n",
    "a"
   ]
  },
  {
   "cell_type": "code",
   "execution_count": 22,
   "metadata": {},
   "outputs": [
    {
     "name": "stdout",
     "output_type": "stream",
     "text": [
      "[[ 60.  62.  64.  52.  10.]\n",
      " [ 97.  75.  33.  81.  51.]\n",
      " [ 48.  26.  18.  59.  85.]\n",
      " [ 20.  77.  89.  80.  31.]\n",
      " [ 84.  46.  16.  40.  43.]]\n",
      "float64\n"
     ]
    }
   ],
   "source": [
    "# Definition of the matrix M.\n",
    "M = np.random.randint(0,100,size=(5,5)) * np.float64(1.)\n",
    "print(M)\n",
    "print(M.dtype)"
   ]
  },
  {
   "cell_type": "code",
   "execution_count": 23,
   "metadata": {},
   "outputs": [
    {
     "data": {
      "text/plain": [
       "4.0"
      ]
     },
     "execution_count": 23,
     "metadata": {},
     "output_type": "execute_result"
    }
   ],
   "source": [
    "a[4] # a is a vector and therefore has only one dimension"
   ]
  },
  {
   "cell_type": "code",
   "execution_count": 24,
   "metadata": {},
   "outputs": [
    {
     "data": {
      "text/plain": [
       "97.0"
      ]
     },
     "execution_count": 24,
     "metadata": {},
     "output_type": "execute_result"
    }
   ],
   "source": [
    "M[1,0] # M is a matrix or 2-dimensional array. As a result, requires 2 indices"
   ]
  },
  {
   "cell_type": "markdown",
   "metadata": {},
   "source": [
    "Omitting indices altogether gives the entire array"
   ]
  },
  {
   "cell_type": "code",
   "execution_count": 25,
   "metadata": {},
   "outputs": [
    {
     "data": {
      "text/plain": [
       "array([[ 60.,  62.,  64.,  52.,  10.],\n",
       "       [ 97.,  75.,  33.,  81.,  51.],\n",
       "       [ 48.,  26.,  18.,  59.,  85.],\n",
       "       [ 20.,  77.,  89.,  80.,  31.],\n",
       "       [ 84.,  46.,  16.,  40.,  43.]])"
      ]
     },
     "execution_count": 25,
     "metadata": {},
     "output_type": "execute_result"
    }
   ],
   "source": [
    "M"
   ]
  },
  {
   "cell_type": "markdown",
   "metadata": {},
   "source": [
    "Omitting one of the indices gives the particular *axis* of the array."
   ]
  },
  {
   "cell_type": "code",
   "execution_count": 26,
   "metadata": {},
   "outputs": [
    {
     "data": {
      "text/plain": [
       "array([ 97.,  75.,  33.,  81.,  51.])"
      ]
     },
     "execution_count": 26,
     "metadata": {},
     "output_type": "execute_result"
    }
   ],
   "source": [
    "M[1] # Single index like so will give the second row of M"
   ]
  },
  {
   "cell_type": "markdown",
   "metadata": {},
   "source": [
    "The same can be achieved with `:` instead of an index. This is much more flexible."
   ]
  },
  {
   "cell_type": "code",
   "execution_count": 27,
   "metadata": {},
   "outputs": [
    {
     "data": {
      "text/plain": [
       "array([ 62.,  75.,  26.,  77.,  46.])"
      ]
     },
     "execution_count": 27,
     "metadata": {},
     "output_type": "execute_result"
    }
   ],
   "source": [
    "M[:,1] # second column of M"
   ]
  },
  {
   "cell_type": "code",
   "execution_count": 28,
   "metadata": {},
   "outputs": [
    {
     "data": {
      "text/plain": [
       "array([ 97.,  75.,  33.,  81.,  51.])"
      ]
     },
     "execution_count": 28,
     "metadata": {},
     "output_type": "execute_result"
    }
   ],
   "source": [
    "M[1,:] #2nd row of M"
   ]
  },
  {
   "cell_type": "markdown",
   "metadata": {},
   "source": [
    "We can modify the value of an array through assignment."
   ]
  },
  {
   "cell_type": "code",
   "execution_count": 29,
   "metadata": {},
   "outputs": [
    {
     "data": {
      "text/plain": [
       "array([[  0.,  62.,  64.,  52.,  10.],\n",
       "       [ 97.,  75.,  33.,  81.,  51.],\n",
       "       [ 48.,  26.,  18.,  59.,  85.],\n",
       "       [ 20.,  77.,  89.,  80.,  31.],\n",
       "       [ 84.,  46.,  16.,  40.,  43.]])"
      ]
     },
     "execution_count": 29,
     "metadata": {},
     "output_type": "execute_result"
    }
   ],
   "source": [
    "M[0,0] = 0. # Assign 0. to the element in the first row and first column.\n",
    "M"
   ]
  },
  {
   "cell_type": "markdown",
   "metadata": {},
   "source": [
    "This also works for rows and columns."
   ]
  },
  {
   "cell_type": "code",
   "execution_count": 30,
   "metadata": {},
   "outputs": [
    {
     "data": {
      "text/plain": [
       "array([[   0., -100.,   64.,   52.,   10.],\n",
       "       [  97., -100.,   33.,   81.,   51.],\n",
       "       [  48., -100.,   18.,   59.,   85.],\n",
       "       [  20., -100.,   89.,   80.,   31.],\n",
       "       [  84., -100.,   16.,   40.,   43.]])"
      ]
     },
     "execution_count": 30,
     "metadata": {},
     "output_type": "execute_result"
    }
   ],
   "source": [
    "M[:,1] = -100. # Assign -100. to all rows in the second column\n",
    "M"
   ]
  },
  {
   "cell_type": "markdown",
   "metadata": {},
   "source": [
    "You can provide strides for indexing."
   ]
  },
  {
   "cell_type": "code",
   "execution_count": 31,
   "metadata": {},
   "outputs": [
    {
     "data": {
      "text/plain": [
       "array([[  0.,  64.,  10.],\n",
       "       [ 48.,  18.,  85.],\n",
       "       [ 84.,  16.,  43.]])"
      ]
     },
     "execution_count": 31,
     "metadata": {},
     "output_type": "execute_result"
    }
   ],
   "source": [
    "M[::2, ::2] # Return elements at every second indices"
   ]
  },
  {
   "cell_type": "markdown",
   "metadata": {},
   "source": [
    "### Fancy indexing"
   ]
  },
  {
   "cell_type": "markdown",
   "metadata": {},
   "source": [
    "Fancy indexing is the name used when a list or an array is used to index elements of an array in-place of an index value."
   ]
  },
  {
   "cell_type": "code",
   "execution_count": 32,
   "metadata": {
    "scrolled": true
   },
   "outputs": [
    {
     "data": {
      "text/plain": [
       "array([[  97., -100.,   33.,   81.,   51.],\n",
       "       [  48., -100.,   18.,   59.,   85.],\n",
       "       [  84., -100.,   16.,   40.,   43.]])"
      ]
     },
     "execution_count": 32,
     "metadata": {},
     "output_type": "execute_result"
    }
   ],
   "source": [
    "row_indices = [1, 2, 4] # row numbers\n",
    "M[row_indices] "
   ]
  },
  {
   "cell_type": "code",
   "execution_count": 33,
   "metadata": {},
   "outputs": [
    {
     "data": {
      "text/plain": [
       "array([ 33.,  85.,  43.])"
      ]
     },
     "execution_count": 33,
     "metadata": {},
     "output_type": "execute_result"
    }
   ],
   "source": [
    "col_indices = [2, 4, -1] # column numbers\n",
    "M[row_indices, col_indices]"
   ]
  },
  {
   "cell_type": "markdown",
   "metadata": {},
   "source": [
    "You can mask out certain values using booleans."
   ]
  },
  {
   "cell_type": "code",
   "execution_count": 34,
   "metadata": {},
   "outputs": [
    {
     "data": {
      "text/plain": [
       "array([0, 1, 2, 3, 4])"
      ]
     },
     "execution_count": 34,
     "metadata": {},
     "output_type": "execute_result"
    }
   ],
   "source": [
    "b = np.array([x for x in range(5)]) # This is called a list comprehension which is then converted to an array\n",
    "b"
   ]
  },
  {
   "cell_type": "code",
   "execution_count": 35,
   "metadata": {},
   "outputs": [
    {
     "data": {
      "text/plain": [
       "array([1, 2])"
      ]
     },
     "execution_count": 35,
     "metadata": {},
     "output_type": "execute_result"
    }
   ],
   "source": [
    "row_mask = [False, True, True, False, False] # a list of booleans masking unwanted elements\n",
    "b[row_mask]"
   ]
  },
  {
   "cell_type": "code",
   "execution_count": 36,
   "metadata": {},
   "outputs": [
    {
     "data": {
      "text/plain": [
       "array([1, 2])"
      ]
     },
     "execution_count": 36,
     "metadata": {},
     "output_type": "execute_result"
    }
   ],
   "source": [
    "row_mask = np.array([0,1,1,0,0], dtype=bool) # another way of defining a mask\n",
    "b[row_mask]"
   ]
  },
  {
   "cell_type": "markdown",
   "metadata": {},
   "source": [
    "You can use masks to conditionally select elements."
   ]
  },
  {
   "cell_type": "code",
   "execution_count": 37,
   "metadata": {},
   "outputs": [
    {
     "name": "stdout",
     "output_type": "stream",
     "text": [
      "[[False  True False False False]\n",
      " [False  True False False False]\n",
      " [False  True False False False]\n",
      " [False  True False False False]\n",
      " [False  True False False False]] \n",
      "\n",
      " [[   0. -100.   64.   52.   10.]\n",
      " [  97. -100.   33.   81.   51.]\n",
      " [  48. -100.   18.   59.   85.]\n",
      " [  20. -100.   89.   80.   31.]\n",
      " [  84. -100.   16.   40.   43.]]\n"
     ]
    }
   ],
   "source": [
    "mask = M < 0 # Operates on individual elements and returns True or False for each element.\n",
    "print(mask,\"\\n\\n\", M) # \\n is an escape sequence for newline."
   ]
  },
  {
   "cell_type": "code",
   "execution_count": 38,
   "metadata": {},
   "outputs": [
    {
     "data": {
      "text/plain": [
       "array([-100., -100., -100., -100., -100.])"
      ]
     },
     "execution_count": 38,
     "metadata": {},
     "output_type": "execute_result"
    }
   ],
   "source": [
    "M[mask]"
   ]
  },
  {
   "cell_type": "markdown",
   "metadata": {},
   "source": [
    "### Functions to find position indices and extracting data"
   ]
  },
  {
   "cell_type": "markdown",
   "metadata": {},
   "source": [
    "#### `np.where()`"
   ]
  },
  {
   "cell_type": "code",
   "execution_count": 39,
   "metadata": {},
   "outputs": [
    {
     "data": {
      "text/plain": [
       "(array([0, 1, 2, 3, 4]), array([1, 1, 1, 1, 1]))"
      ]
     },
     "execution_count": 39,
     "metadata": {},
     "output_type": "execute_result"
    }
   ],
   "source": [
    "indices = np.where(mask)\n",
    "indices"
   ]
  },
  {
   "cell_type": "code",
   "execution_count": 40,
   "metadata": {},
   "outputs": [
    {
     "data": {
      "text/plain": [
       "array([-100., -100., -100., -100., -100.])"
      ]
     },
     "execution_count": 40,
     "metadata": {},
     "output_type": "execute_result"
    }
   ],
   "source": [
    "M[indices] # Similar to fancy indexing where the row and column are sent as a tuple"
   ]
  },
  {
   "cell_type": "markdown",
   "metadata": {},
   "source": [
    "#### `np.diag()`"
   ]
  },
  {
   "cell_type": "markdown",
   "metadata": {},
   "source": [
    "The `np.diag()` function was used before to create diagonal matrices. But, the same function can be used to retrieve the diagonal and sub-diagonal elements of a matrix."
   ]
  },
  {
   "cell_type": "code",
   "execution_count": 41,
   "metadata": {},
   "outputs": [
    {
     "data": {
      "text/plain": [
       "array([   0., -100.,   18.,   80.,   43.])"
      ]
     },
     "execution_count": 41,
     "metadata": {},
     "output_type": "execute_result"
    }
   ],
   "source": [
    "np.diag(M)"
   ]
  },
  {
   "cell_type": "code",
   "execution_count": 42,
   "metadata": {},
   "outputs": [
    {
     "data": {
      "text/plain": [
       "array([  97., -100.,   89.,   40.])"
      ]
     },
     "execution_count": 42,
     "metadata": {},
     "output_type": "execute_result"
    }
   ],
   "source": [
    "np.diag(M,-1) # 1st sub-diagonal below the main diagonal"
   ]
  },
  {
   "cell_type": "code",
   "execution_count": 43,
   "metadata": {
    "scrolled": true
   },
   "outputs": [
    {
     "data": {
      "text/plain": [
       "array([-100.,   33.,   59.,   31.])"
      ]
     },
     "execution_count": 43,
     "metadata": {},
     "output_type": "execute_result"
    }
   ],
   "source": [
    "np.diag(M,1) # 1st sub-diagonal above the main diagonal"
   ]
  },
  {
   "cell_type": "markdown",
   "metadata": {},
   "source": [
    "There are many other functions such as `np.take()` and `np.choose()` that have not been discussed here."
   ]
  },
  {
   "cell_type": "markdown",
   "metadata": {},
   "source": [
    "## Linear Algebra\n",
    "-------------------------------------------------------------------\n",
    "\n",
    "If you are going to be dealing with numerical calculations, it is better vectorize your code since vectorization allows efficient computation and faster performance. Vectorizing means to write code in terms of vector and matrix operations like matrix-vector multiplication or matrix-matrix multiplication etc..."
   ]
  },
  {
   "cell_type": "markdown",
   "metadata": {},
   "source": [
    "### Scalar-Array operations"
   ]
  },
  {
   "cell_type": "markdown",
   "metadata": {},
   "source": [
    "Basic arithmetic operations can be used to add subtract, divide and multiple arrays with scalars."
   ]
  },
  {
   "cell_type": "code",
   "execution_count": 44,
   "metadata": {
    "collapsed": true
   },
   "outputs": [],
   "source": [
    "v = np.arange(5) # [0, 1, 2, 3, 4]"
   ]
  },
  {
   "cell_type": "markdown",
   "metadata": {},
   "source": [
    "By default, for the `numpy.array` type, the operation is performed elementwise."
   ]
  },
  {
   "cell_type": "code",
   "execution_count": 45,
   "metadata": {},
   "outputs": [
    {
     "data": {
      "text/plain": [
       "array([0, 2, 4, 6, 8])"
      ]
     },
     "execution_count": 45,
     "metadata": {},
     "output_type": "execute_result"
    }
   ],
   "source": [
    "v * 2"
   ]
  },
  {
   "cell_type": "code",
   "execution_count": 46,
   "metadata": {},
   "outputs": [
    {
     "data": {
      "text/plain": [
       "array([2, 3, 4, 5, 6])"
      ]
     },
     "execution_count": 46,
     "metadata": {},
     "output_type": "execute_result"
    }
   ],
   "source": [
    "v + 2"
   ]
  },
  {
   "cell_type": "markdown",
   "metadata": {},
   "source": [
    "Let's create a matrix `A`."
   ]
  },
  {
   "cell_type": "code",
   "execution_count": 47,
   "metadata": {},
   "outputs": [
    {
     "data": {
      "text/plain": [
       "array([[ 0,  1,  2,  3,  4],\n",
       "       [ 5,  6,  7,  8,  9],\n",
       "       [10, 11, 12, 13, 14],\n",
       "       [15, 16, 17, 18, 19],\n",
       "       [20, 21, 22, 23, 24]])"
      ]
     },
     "execution_count": 47,
     "metadata": {},
     "output_type": "execute_result"
    }
   ],
   "source": [
    "A = np.array([[ i + j*5 for i in range(5)] for j in range(5)]) # List comprehension way of creating matrix A\n",
    "A"
   ]
  },
  {
   "cell_type": "code",
   "execution_count": 48,
   "metadata": {},
   "outputs": [
    {
     "data": {
      "text/plain": [
       "array([[ 1,  2,  3,  4,  5],\n",
       "       [ 6,  7,  8,  9, 10],\n",
       "       [11, 12, 13, 14, 15],\n",
       "       [16, 17, 18, 19, 20],\n",
       "       [21, 22, 23, 24, 25]])"
      ]
     },
     "execution_count": 48,
     "metadata": {},
     "output_type": "execute_result"
    }
   ],
   "source": [
    "A + 1"
   ]
  },
  {
   "cell_type": "code",
   "execution_count": 49,
   "metadata": {},
   "outputs": [
    {
     "data": {
      "text/plain": [
       "array([[ 0,  2,  4,  6,  8],\n",
       "       [10, 12, 14, 16, 18],\n",
       "       [20, 22, 24, 26, 28],\n",
       "       [30, 32, 34, 36, 38],\n",
       "       [40, 42, 44, 46, 48]])"
      ]
     },
     "execution_count": 49,
     "metadata": {},
     "output_type": "execute_result"
    }
   ],
   "source": [
    "A * 2"
   ]
  },
  {
   "cell_type": "markdown",
   "metadata": {},
   "source": [
    "### Matrix Algebra"
   ]
  },
  {
   "cell_type": "markdown",
   "metadata": {},
   "source": [
    "Matrix multiplication is something that is done very efficiently with `numpy`. There are two methods to perform matrix-matrix, matrix-array or array-array inner products."
   ]
  },
  {
   "cell_type": "markdown",
   "metadata": {},
   "source": [
    "#### 1.Using the `np.dot()` method "
   ]
  },
  {
   "cell_type": "code",
   "execution_count": 50,
   "metadata": {},
   "outputs": [
    {
     "data": {
      "text/plain": [
       "array([[ 150,  160,  170,  180,  190],\n",
       "       [ 400,  435,  470,  505,  540],\n",
       "       [ 650,  710,  770,  830,  890],\n",
       "       [ 900,  985, 1070, 1155, 1240],\n",
       "       [1150, 1260, 1370, 1480, 1590]])"
      ]
     },
     "execution_count": 50,
     "metadata": {},
     "output_type": "execute_result"
    }
   ],
   "source": [
    "np.dot(A,A)"
   ]
  },
  {
   "cell_type": "code",
   "execution_count": 51,
   "metadata": {},
   "outputs": [
    {
     "data": {
      "text/plain": [
       "array([ 30,  80, 130, 180, 230])"
      ]
     },
     "execution_count": 51,
     "metadata": {},
     "output_type": "execute_result"
    }
   ],
   "source": [
    "np.dot(A,v)"
   ]
  },
  {
   "cell_type": "code",
   "execution_count": 52,
   "metadata": {},
   "outputs": [
    {
     "data": {
      "text/plain": [
       "30"
      ]
     },
     "execution_count": 52,
     "metadata": {},
     "output_type": "execute_result"
    }
   ],
   "source": [
    "np.dot(v,v)"
   ]
  },
  {
   "cell_type": "markdown",
   "metadata": {},
   "source": [
    "#### 2. Casting array objects to the `matrix` type "
   ]
  },
  {
   "cell_type": "code",
   "execution_count": 53,
   "metadata": {
    "collapsed": true
   },
   "outputs": [],
   "source": [
    "M = np.matrix(A)\n",
    "v = np.matrix(v).T"
   ]
  },
  {
   "cell_type": "code",
   "execution_count": 54,
   "metadata": {},
   "outputs": [
    {
     "data": {
      "text/plain": [
       "matrix([[0],\n",
       "        [1],\n",
       "        [2],\n",
       "        [3],\n",
       "        [4]])"
      ]
     },
     "execution_count": 54,
     "metadata": {},
     "output_type": "execute_result"
    }
   ],
   "source": [
    "v"
   ]
  },
  {
   "cell_type": "code",
   "execution_count": 55,
   "metadata": {},
   "outputs": [
    {
     "data": {
      "text/plain": [
       "matrix([[ 0,  1,  2,  3,  4],\n",
       "        [ 5,  6,  7,  8,  9],\n",
       "        [10, 11, 12, 13, 14],\n",
       "        [15, 16, 17, 18, 19],\n",
       "        [20, 21, 22, 23, 24]])"
      ]
     },
     "execution_count": 55,
     "metadata": {},
     "output_type": "execute_result"
    }
   ],
   "source": [
    "M"
   ]
  },
  {
   "cell_type": "code",
   "execution_count": 56,
   "metadata": {},
   "outputs": [
    {
     "data": {
      "text/plain": [
       "matrix([[ 150,  160,  170,  180,  190],\n",
       "        [ 400,  435,  470,  505,  540],\n",
       "        [ 650,  710,  770,  830,  890],\n",
       "        [ 900,  985, 1070, 1155, 1240],\n",
       "        [1150, 1260, 1370, 1480, 1590]])"
      ]
     },
     "execution_count": 56,
     "metadata": {},
     "output_type": "execute_result"
    }
   ],
   "source": [
    "M * M"
   ]
  },
  {
   "cell_type": "code",
   "execution_count": 57,
   "metadata": {},
   "outputs": [
    {
     "data": {
      "text/plain": [
       "matrix([[ 30],\n",
       "        [ 80],\n",
       "        [130],\n",
       "        [180],\n",
       "        [230]])"
      ]
     },
     "execution_count": 57,
     "metadata": {},
     "output_type": "execute_result"
    }
   ],
   "source": [
    "M * v"
   ]
  },
  {
   "cell_type": "code",
   "execution_count": 58,
   "metadata": {
    "scrolled": true
   },
   "outputs": [
    {
     "data": {
      "text/plain": [
       "matrix([[ 30],\n",
       "        [ 81],\n",
       "        [132],\n",
       "        [183],\n",
       "        [234]])"
      ]
     },
     "execution_count": 58,
     "metadata": {},
     "output_type": "execute_result"
    }
   ],
   "source": [
    "v + M * v"
   ]
  },
  {
   "cell_type": "markdown",
   "metadata": {},
   "source": [
    "## Basic Data Processing\n",
    "-------------------------------------------------------------------\n",
    "\n",
    "Let us see some basic statistical functions that we can use to perform our data analysis."
   ]
  },
  {
   "cell_type": "code",
   "execution_count": 59,
   "metadata": {
    "scrolled": false
   },
   "outputs": [
    {
     "data": {
      "text/plain": [
       "1000000"
      ]
     },
     "execution_count": 59,
     "metadata": {},
     "output_type": "execute_result"
    }
   ],
   "source": [
    "data = np.random.randn(1000,1000) # Normally distributed data of 100 rows and 100 columns\n",
    "data.size"
   ]
  },
  {
   "cell_type": "code",
   "execution_count": 60,
   "metadata": {},
   "outputs": [
    {
     "data": {
      "text/plain": [
       "4.798237016046528"
      ]
     },
     "execution_count": 60,
     "metadata": {},
     "output_type": "execute_result"
    }
   ],
   "source": [
    "np.max(data) # largest value in the data"
   ]
  },
  {
   "cell_type": "code",
   "execution_count": 61,
   "metadata": {},
   "outputs": [
    {
     "data": {
      "text/plain": [
       "-5.1267621558882439"
      ]
     },
     "execution_count": 61,
     "metadata": {},
     "output_type": "execute_result"
    }
   ],
   "source": [
    "np.min(data) # smallest value in the data"
   ]
  },
  {
   "cell_type": "code",
   "execution_count": 62,
   "metadata": {},
   "outputs": [
    {
     "data": {
      "text/plain": [
       "-0.0012548379317710153"
      ]
     },
     "execution_count": 62,
     "metadata": {},
     "output_type": "execute_result"
    }
   ],
   "source": [
    "np.mean(data) # Mean value of the given sample"
   ]
  },
  {
   "cell_type": "code",
   "execution_count": 63,
   "metadata": {
    "scrolled": true
   },
   "outputs": [
    {
     "data": {
      "text/plain": [
       "1.0006951156286024"
      ]
     },
     "execution_count": 63,
     "metadata": {},
     "output_type": "execute_result"
    }
   ],
   "source": [
    "np.std(data) # Standard deviation of the sample."
   ]
  },
  {
   "cell_type": "code",
   "execution_count": 64,
   "metadata": {},
   "outputs": [
    {
     "data": {
      "text/plain": [
       "1.0013907144429417"
      ]
     },
     "execution_count": 64,
     "metadata": {},
     "output_type": "execute_result"
    }
   ],
   "source": [
    "np.var(data) # Variance of the sample"
   ]
  },
  {
   "cell_type": "code",
   "execution_count": 65,
   "metadata": {},
   "outputs": [
    {
     "data": {
      "text/plain": [
       "array([ -4.221e+01,  -1.620e+01,   8.431e+00,   6.984e+00,  -3.817e+01,\n",
       "         7.890e+00,  -5.977e+01,  -1.585e+01,  -2.383e+01,   2.588e+01,\n",
       "         7.916e+00,   4.355e+00,  -2.796e+01,   2.048e+01,  -1.556e+00,\n",
       "        -1.919e+01,  -4.120e+01,  -2.380e+01,  -2.529e+01,   2.042e+01,\n",
       "        -3.160e+00,   5.856e+00,   3.650e+01,  -2.132e+01,   1.923e+01,\n",
       "        -2.156e+01,   3.028e+01,  -9.112e-01,   6.001e+01,  -5.251e+00,\n",
       "         1.384e+01,  -1.448e+01,  -4.183e-01,  -4.645e+01,   1.630e+01,\n",
       "         2.542e+01,   4.449e+00,   1.270e+01,   2.879e+01,  -1.800e+01,\n",
       "        -3.578e+01,  -4.191e+01,  -3.228e+01,   6.512e+00,  -1.050e+01,\n",
       "        -2.178e+01,   2.103e+01,   7.325e+00,  -5.587e+01,   1.743e+01,\n",
       "         2.348e+01,  -2.231e+01,  -2.467e+01,   2.877e+01,  -3.660e+01,\n",
       "         1.704e+01,  -2.588e+01,   3.796e+01,  -1.879e+01,   1.332e+01,\n",
       "        -5.627e+01,  -1.670e+01,  -5.494e-01,  -1.278e+01,   5.822e+00,\n",
       "        -2.313e+01,  -9.529e+00,  -3.921e+01,  -7.564e+00,   9.401e+00,\n",
       "        -1.441e+01,   7.135e+01,   4.063e+01,  -1.678e+01,   7.642e+00,\n",
       "        -4.861e+01,  -1.045e+01,   4.858e+00,  -3.125e+01,  -4.048e+01,\n",
       "        -3.685e+01,   4.928e+01,   5.175e+00,  -4.872e+01,  -4.699e+01,\n",
       "        -6.576e+00,   6.909e+00,  -2.970e+00,   2.882e+01,   3.028e+01,\n",
       "        -5.736e+01,  -8.826e+00,   2.177e+01,   3.143e+01,   1.806e+01,\n",
       "         2.905e+01,   3.597e+00,  -1.074e+01,  -2.928e+01,  -5.080e+01,\n",
       "         3.956e+01,   1.014e+01,  -4.925e+01,   2.337e+01,  -4.545e+00,\n",
       "         1.704e+01,   1.004e+00,  -1.442e+01,   4.924e+01,   4.684e+01,\n",
       "         7.299e+00,   2.640e+01,   4.360e+01,  -5.929e+00,  -1.399e+01,\n",
       "        -5.821e+00,  -3.001e+01,   8.720e+01,  -1.029e+01,  -4.572e+01,\n",
       "        -1.168e+00,  -6.410e+01,   8.250e+01,   5.781e+00,   2.658e+01,\n",
       "        -3.256e+01,  -2.195e+00,  -1.247e+01,  -1.274e+00,  -3.190e+01,\n",
       "        -5.121e+00,  -1.430e+01,  -3.999e+01,  -1.649e+01,  -2.788e+01,\n",
       "         1.894e+01,  -4.026e+01,  -1.660e+00,  -1.456e+01,   3.339e+01,\n",
       "         1.495e+01,   2.099e+00,  -5.115e+01,  -2.275e+01,  -3.101e+01,\n",
       "        -1.832e+01,   4.705e+01,  -3.207e+00,   6.997e+00,  -1.082e+01,\n",
       "        -1.326e+01,  -1.370e+01,  -5.319e+01,   7.711e+00,   5.672e+01,\n",
       "        -1.200e+01,  -1.970e+01,   1.946e+01,   4.406e+00,   4.279e+01,\n",
       "        -1.499e+01,  -4.182e+01,   3.121e+00,   3.776e+01,   1.478e+01,\n",
       "         2.518e+01,  -5.965e+00,  -2.749e+01,   5.053e+01,   7.000e+00,\n",
       "        -3.176e+01,   1.148e+01,  -9.006e+00,   5.963e+00,   5.743e+00,\n",
       "         2.655e+01,   5.390e+00,  -4.238e+01,   2.573e+01,  -1.954e+00,\n",
       "        -1.464e+01,  -3.917e+01,  -1.935e+01,   4.509e+01,   1.384e+00,\n",
       "         1.307e+00,  -1.951e+01,  -8.115e+01,  -2.556e+00,  -2.842e+01,\n",
       "        -1.723e+01,   1.839e+00,   7.471e+00,  -9.708e+00,   9.233e+00,\n",
       "        -7.545e+01,   7.719e+00,  -4.143e+01,  -4.796e+01,   2.310e+01,\n",
       "         7.939e+00,  -1.959e+01,  -3.242e+01,  -3.597e+01,   2.993e+01,\n",
       "         3.910e-01,  -1.579e+01,   3.219e+01,  -2.150e+01,   1.915e+01,\n",
       "        -4.389e+01,  -1.549e+01,   2.097e+01,   3.221e+01,  -9.002e+01,\n",
       "        -4.148e+00,   1.471e+01,  -4.401e+01,  -1.893e+01,   6.373e+01,\n",
       "        -4.193e+01,  -2.457e+01,   9.493e+00,   9.900e+00,  -6.031e+01,\n",
       "        -1.569e+01,  -1.248e+01,  -1.319e+01,   1.066e+00,  -3.753e+01,\n",
       "        -1.300e+01,   4.438e+01,  -4.898e+01,   1.744e+01,   1.923e+01,\n",
       "         3.976e+01,  -2.636e+01,   1.090e+01,  -2.289e+01,   2.241e+01,\n",
       "         2.930e+01,  -3.972e+01,  -2.331e+01,   5.097e+00,  -1.251e+01,\n",
       "         8.346e+00,  -1.038e+00,   2.488e+01,   2.981e+01,   3.745e+00,\n",
       "         2.510e+00,  -1.524e+01,   6.910e+01,   2.336e+01,  -3.768e+00,\n",
       "        -9.319e+00,  -1.693e+01,   1.356e+01,  -1.552e+01,  -2.303e+01,\n",
       "         6.599e+00,  -5.296e+00,  -4.133e+01,   1.481e+01,   2.112e+01,\n",
       "        -6.855e+00,  -8.136e+00,  -2.977e+01,  -4.345e+00,   1.835e+01,\n",
       "         6.665e+01,  -1.084e+01,   3.828e+00,  -1.922e+00,  -6.696e+01,\n",
       "         1.943e+01,   2.305e+00,   4.042e+01,   2.909e+01,  -7.731e+01,\n",
       "         2.644e+00,  -1.638e+01,  -2.673e+00,   1.884e+00,  -2.604e+01,\n",
       "         4.854e+01,  -9.815e+00,  -9.999e+00,  -3.318e+01,  -9.958e+00,\n",
       "         2.510e+01,   1.141e+01,   1.790e+01,   6.113e+01,  -6.281e+00,\n",
       "        -3.583e+01,  -1.181e+01,   2.669e+01,  -5.690e+01,  -2.387e+01,\n",
       "         1.230e+01,   2.336e+01,  -1.527e+01,  -3.028e+01,  -5.168e+01,\n",
       "         8.357e+00,  -2.736e+00,  -2.517e+01,  -1.359e+01,  -6.633e+01,\n",
       "        -4.950e+00,   2.483e+01,   9.055e+00,   2.481e+01,  -3.611e+01,\n",
       "         4.569e+01,  -1.671e+01,  -2.987e+01,   1.025e+01,   6.133e+01,\n",
       "        -2.321e+01,   2.055e+01,  -1.492e+01,  -1.525e+01,   8.834e+00,\n",
       "        -1.643e+01,   1.124e+01,  -1.217e+01,  -5.428e-01,  -7.025e+00,\n",
       "        -2.111e+01,   1.861e+01,  -4.352e+01,   3.177e+01,   5.622e+00,\n",
       "         6.915e+01,   3.331e+01,   2.438e+00,  -5.595e+01,   4.930e+01,\n",
       "         2.988e+01,   9.970e+00,  -1.415e+01,  -4.437e+01,   1.562e+01,\n",
       "        -1.608e+01,  -7.319e+00,   3.675e+01,   9.908e-01,  -3.456e+01,\n",
       "        -4.302e+01,   3.281e+01,  -1.892e+00,   4.709e+01,   2.048e-01,\n",
       "        -6.525e+01,   7.916e+00,  -6.373e+00,   3.785e+01,   1.537e+01,\n",
       "         1.749e+01,   4.624e+01,  -3.636e+01,   3.944e+01,  -5.671e+01,\n",
       "        -3.154e+01,  -4.544e-01,   2.129e+01,  -1.232e+01,  -3.862e+01,\n",
       "         6.378e+00,  -4.192e+01,   3.609e+01,  -1.386e+01,   5.172e+00,\n",
       "        -2.232e+01,  -1.283e+01,  -4.637e+01,   3.046e+01,  -1.729e+01,\n",
       "        -6.035e+00,  -1.569e+01,   2.183e+01,  -4.185e+00,  -2.143e+01,\n",
       "         1.534e+01,   6.359e+01,   2.815e+01,  -3.581e+01,   1.425e+01,\n",
       "        -3.658e+01,  -2.188e+01,  -3.951e+00,  -1.327e+01,   4.901e+00,\n",
       "        -5.552e+01,  -3.134e+01,   1.154e+01,   1.793e+01,  -7.102e+00,\n",
       "        -4.710e+01,   5.643e+01,   1.543e+01,   3.887e+01,   8.671e-01,\n",
       "         1.644e+01,  -4.127e+01,  -2.807e+01,   3.300e+01,  -7.616e+01,\n",
       "        -2.935e+01,   4.408e+01,   4.392e+00,   2.367e+01,  -2.351e+01,\n",
       "        -1.344e+01,  -1.171e+01,  -7.806e+01,   3.141e+01,   1.932e+01,\n",
       "        -3.647e+01,   4.569e+00,  -1.987e+01,  -4.405e+01,  -4.614e+01,\n",
       "         1.036e+01,   2.878e+00,  -3.854e+00,   2.689e+01,   4.129e+00,\n",
       "         1.862e+00,  -4.436e+01,  -2.704e+01,  -1.249e+01,   5.784e+01,\n",
       "         1.453e+01,  -2.982e+01,   1.056e+01,   3.293e+00,   5.117e+01,\n",
       "         5.804e-01,  -5.223e+01,  -7.233e+01,   8.645e+00,  -3.045e+01,\n",
       "        -2.098e+01,   3.880e+01,  -5.570e+00,   2.814e+01,  -4.091e+01,\n",
       "         1.786e+00,  -6.442e-01,   2.335e+01,   9.218e+00,  -2.776e+01,\n",
       "        -1.810e+00,  -2.978e+01,  -4.985e+01,  -2.519e+01,  -3.342e+01,\n",
       "         4.864e+01,  -1.450e+01,  -5.068e+00,   2.428e+01,   2.692e+00,\n",
       "        -1.720e+01,  -1.284e+01,   3.263e+01,  -3.211e+00,   4.569e+01,\n",
       "        -3.379e+01,   3.020e+01,   1.043e+01,  -4.584e+01,   3.401e+00,\n",
       "         9.299e+00,  -1.758e+01,   4.710e+01,   1.077e+01,   3.876e+00,\n",
       "         1.737e+01,  -6.491e+00,  -2.654e+01,   7.259e+01,  -5.316e+01,\n",
       "        -1.974e+01,   4.372e+01,   4.300e+01,  -3.360e+00,   3.038e+01,\n",
       "         1.163e+01,   2.296e+01,  -9.218e+00,  -1.434e+01,   2.409e+01,\n",
       "        -6.946e+01,   5.109e-01,  -5.747e+00,   8.380e+00,  -1.715e+01,\n",
       "         9.254e+00,   8.441e+00,   2.928e+01,  -3.351e+01,   2.777e+01,\n",
       "         1.981e+00,   3.948e+00,   3.910e+01,   2.470e+01,  -3.542e+01,\n",
       "        -2.370e+01,   3.310e+01,  -7.596e+00,   7.209e+00,  -2.094e+01,\n",
       "         3.875e+01,  -1.567e+01,   4.122e+01,   1.474e+01,  -2.289e+01,\n",
       "         5.162e+01,  -2.796e+01,   2.227e+01,  -1.352e+01,   3.026e+00,\n",
       "        -7.622e-01,   5.428e+01,   7.327e-02,  -2.861e+01,   1.760e+01,\n",
       "         3.909e+01,  -3.895e+01,   1.976e+01,   1.306e+01,  -3.553e+00,\n",
       "         8.681e+00,   5.154e+01,  -4.677e+01,   5.522e+01,   1.924e+01,\n",
       "        -1.620e+01,   1.485e+01,  -6.878e+01,  -6.744e+00,  -7.448e+00,\n",
       "        -1.414e+01,   3.028e+01,  -2.314e+01,  -2.592e-01,   2.260e+01,\n",
       "        -1.037e+01,  -6.804e+00,  -4.997e+01,   1.361e+01,   4.643e+00,\n",
       "        -2.868e+01,  -3.102e+01,  -3.256e+01,   5.451e+01,   3.704e+01,\n",
       "         2.329e+01,   9.127e+00,   5.310e+01,   1.522e+01,   6.623e+00,\n",
       "        -5.503e+01,   1.113e+01,  -9.825e-02,  -9.062e+00,   4.673e+01,\n",
       "         9.382e+00,   4.740e+00,  -3.221e+01,   1.336e+01,   3.984e+01,\n",
       "         3.425e+01,   3.310e+01,  -1.628e+01,  -4.290e+01,  -4.768e+01,\n",
       "        -4.839e+01,  -2.222e+01,  -2.550e+01,  -4.899e+01,  -4.701e+00,\n",
       "        -5.324e-01,   5.017e+01,  -7.439e+01,  -4.036e+01,  -1.392e+01,\n",
       "        -9.974e+00,  -9.920e+00,  -4.208e+01,   3.256e+01,   2.163e+01,\n",
       "         1.159e+01,   3.028e+01,   6.611e+01,   4.509e+00,   3.612e+01,\n",
       "         5.591e+01,  -2.932e+01,   3.475e+01,   5.274e+00,  -4.475e+01,\n",
       "         1.573e+01,   2.647e+01,  -8.885e+00,  -5.189e+01,  -7.726e+00,\n",
       "        -4.281e+01,   1.839e+01,  -5.362e+00,   4.370e-02,   7.479e+01,\n",
       "         1.895e+01,   1.510e+00,  -1.988e+00,  -3.351e+01,  -2.886e+00,\n",
       "        -3.259e+01,   4.564e+01,  -2.440e+01,  -2.973e+01,   1.292e+01,\n",
       "        -1.347e+01,  -1.542e+01,  -9.357e-01,  -2.563e+01,  -4.329e-01,\n",
       "        -2.036e+00,   2.137e+01,  -3.912e+01,  -4.700e+00,   4.114e+00,\n",
       "        -4.624e+00,   4.224e+00,  -1.759e+01,  -7.107e+00,   3.534e+01,\n",
       "        -2.114e+01,   3.893e+01,  -3.314e+01,  -4.701e+01,   4.903e+01,\n",
       "        -6.904e+01,  -7.592e+00,   3.893e+01,  -7.978e+00,  -3.176e+01,\n",
       "         2.600e+01,   4.271e+01,   3.098e+01,  -2.231e+01,   3.093e+01,\n",
       "         2.400e+01,  -3.944e+01,  -2.704e+01,  -1.697e-01,  -2.125e+01,\n",
       "        -2.144e+01,  -5.971e+01,   2.252e+00,   3.734e+01,  -7.914e+00,\n",
       "         7.842e+00,  -2.933e+01,  -1.286e+00,   4.701e+01,   4.979e+01,\n",
       "        -6.730e+00,   1.503e+01,  -9.183e+00,   5.511e+01,  -3.560e+01,\n",
       "         5.188e+01,  -1.488e+01,   6.768e+00,   4.219e+01,  -2.256e+01,\n",
       "         5.537e+01,  -5.836e+01,   2.184e+01,  -1.532e+01,   1.170e+01,\n",
       "         3.013e+01,   4.040e+01,   1.775e+01,  -7.837e+00,  -4.856e+01,\n",
       "        -3.581e+01,   7.392e+01,   1.410e+01,   2.895e+01,   2.129e+01,\n",
       "         1.652e+01,   3.159e+01,  -2.676e+01,   7.530e+00,   3.448e+01,\n",
       "         7.144e+00,  -3.756e+01,   2.913e+01,  -4.784e+01,  -4.586e+01,\n",
       "         8.884e+00,  -7.549e-01,  -1.649e+01,   2.857e+01,   1.679e+01,\n",
       "         6.837e+01,  -1.867e+01,   5.046e+00,  -4.698e+00,   6.271e+00,\n",
       "        -2.171e+01,  -4.699e+01,  -1.513e+01,  -1.484e+01,   3.395e+01,\n",
       "         2.064e+01,  -3.833e+01,  -4.355e+00,   1.953e+00,  -1.381e+01,\n",
       "        -6.620e+01,  -2.156e+01,   1.035e+01,  -1.084e+01,  -2.165e+00,\n",
       "        -4.361e+01,   5.905e+00,  -2.320e+01,   1.430e+01,   3.259e+01,\n",
       "         3.286e+01,  -3.871e+01,  -3.329e+01,  -1.864e+01,   1.779e+01,\n",
       "         2.421e+01,   9.507e+01,  -1.967e+01,  -6.961e+01,  -2.753e+01,\n",
       "        -4.233e+01,  -1.359e+01,   1.681e+01,   3.601e+01,  -3.680e+01,\n",
       "        -4.276e+01,   1.458e+01,   3.648e+01,  -5.560e+00,   5.205e+01,\n",
       "         7.406e+01,   5.996e+00,   2.315e+01,  -1.663e+01,  -3.655e+01,\n",
       "         4.482e+01,  -2.952e+00,   4.387e+01,   1.573e+01,   1.528e+01,\n",
       "         1.237e+01,   1.277e-01,   3.492e+01,   1.090e+01,   5.660e+00,\n",
       "        -4.989e+01,   1.471e+01,   3.777e+01,   4.869e+01,   6.048e+00,\n",
       "         2.705e+01,   4.405e+01,  -1.010e+01,   5.435e+01,  -1.768e+01,\n",
       "         8.042e+00,   6.561e+01,  -2.333e+01,  -9.981e+00,  -1.060e+00,\n",
       "         5.924e+01,  -3.578e+01,   2.138e+01,  -2.728e+01,  -9.869e+00,\n",
       "        -3.300e+01,  -2.673e+00,   4.045e+01,   5.446e+00,   4.462e+01,\n",
       "        -1.231e+01,  -2.108e+01,   3.203e+01,  -9.395e+00,  -3.703e+01,\n",
       "        -2.701e+01,  -1.859e+01,  -1.576e+01,   2.840e+01,  -1.570e+01,\n",
       "         2.458e+01,   2.419e+01,  -7.880e+01,  -1.969e+01,   6.031e+01,\n",
       "        -2.229e+01,  -6.812e+01,   3.781e+01,  -4.702e+01,  -1.526e+00,\n",
       "        -4.377e+01,  -4.050e+01,   2.721e+01,   1.038e+01,  -3.491e+00,\n",
       "        -4.684e+01,  -1.975e+01,   1.481e+01,   4.406e+01,   1.583e+01,\n",
       "        -2.581e+01,  -1.367e+01,   2.705e+01,  -5.461e+01,  -3.688e+00,\n",
       "         4.423e+01,   4.637e+01,   1.340e+01,   1.617e+01,   6.366e+01,\n",
       "        -6.875e-01,  -1.062e+00,   1.775e+01,  -3.875e+01,  -3.632e+01,\n",
       "        -1.574e+01,  -1.456e+01,   5.641e+00,  -3.753e+01,  -3.998e+01,\n",
       "         1.414e+00,   2.867e+01,   3.484e+00,  -1.756e+01,  -4.861e+00,\n",
       "         1.768e+01,   1.841e+01,  -6.764e+01,  -2.056e+01,   3.459e+00,\n",
       "         1.252e+01,   2.337e+01,  -1.826e+01,  -6.402e+00,  -5.831e+00,\n",
       "        -6.516e+00,   1.743e+01,   2.881e+01,   2.356e+01,  -1.217e+01,\n",
       "         1.349e+01,   4.295e+01,  -3.473e+01,  -8.659e+00,  -3.358e+01,\n",
       "         3.916e+01,  -6.401e+00,  -2.904e+01,  -4.997e+01,   2.116e+01,\n",
       "        -1.215e+01,   6.564e+00,   8.859e+01,  -1.933e+01,  -2.110e+00,\n",
       "        -3.114e+01,  -5.517e+00,   5.737e+01,   9.524e+00,  -1.233e+01,\n",
       "        -1.926e+01,   4.639e+01,   1.467e+01,   6.135e+01,  -4.485e+01,\n",
       "        -8.144e+00,   4.802e+00,  -2.391e+01,   5.700e+01,  -4.980e+01,\n",
       "         1.342e+01,  -1.741e+01,  -3.838e+01,   1.851e+01,   1.210e+01,\n",
       "         1.406e+01,   4.815e+01,  -2.345e+01,  -2.631e+01,  -2.903e+01,\n",
       "        -2.798e+01,  -4.097e+01,   1.085e+00,  -1.612e+01,   3.564e+01,\n",
       "        -2.489e+01,   3.479e+01,   2.417e+00,  -2.933e+01,   1.650e+01,\n",
       "        -3.653e+01,  -2.609e+01,  -7.051e-01,  -3.267e+01,  -2.109e+01,\n",
       "        -1.399e-01,   2.377e+01,   2.863e+00,  -5.001e+01,   3.512e+01,\n",
       "         1.590e+01,  -3.757e+01,   5.922e+01,   2.119e+01,   4.410e+01,\n",
       "         1.560e+00,  -2.089e+01,  -3.761e+01,  -3.629e+01,   2.294e+01,\n",
       "        -1.536e+01,  -4.646e+01,   1.682e+01,   2.540e+01,   2.448e+00,\n",
       "         1.926e+01,   6.037e+00,  -5.917e+01,   2.826e+01,  -6.081e+01,\n",
       "        -1.281e+01,   1.214e+01,   1.515e+01,  -1.707e+01,  -2.773e+00,\n",
       "        -2.503e+01,  -3.280e+01,  -8.969e+00,   1.350e+01,   6.885e+00,\n",
       "         3.914e+00,   1.335e+01,  -4.761e+01,   2.685e+01,  -8.194e+00,\n",
       "         2.299e+01,  -2.303e+01,  -4.245e+01,   3.883e+01,  -1.680e+01,\n",
       "        -7.661e+00,  -1.593e+01,  -1.221e+01,  -4.960e+01,  -1.232e+01,\n",
       "         5.560e+01,   2.933e+01,   1.539e+01,   3.131e+01,  -5.191e+01,\n",
       "         1.279e+01,   1.566e+01,   4.674e+01,   1.488e+01,   4.898e+00,\n",
       "         4.460e+01,   3.235e+01,  -1.871e+01,  -6.055e-02,   1.647e+01,\n",
       "        -7.498e-02,  -5.773e+01,  -1.124e+01,   5.111e+01,  -3.187e+01,\n",
       "         2.659e+01,  -6.013e+01,  -2.139e+01,   2.123e+01,  -2.329e+01,\n",
       "        -8.837e+00,   4.473e+01,   6.042e+01,   2.907e+01,  -1.398e+01])"
      ]
     },
     "execution_count": 65,
     "metadata": {},
     "output_type": "execute_result"
    }
   ],
   "source": [
    "np.sum(data, axis=1)"
   ]
  },
  {
   "cell_type": "markdown",
   "metadata": {},
   "source": [
    "## Further Reading\n",
    "-------------------------------------------------------------------"
   ]
  }
 ],
 "metadata": {
  "kernelspec": {
   "display_name": "Python 3",
   "language": "python",
   "name": "python3"
  },
  "language_info": {
   "codemirror_mode": {
    "name": "ipython",
    "version": 3
   },
   "file_extension": ".py",
   "mimetype": "text/x-python",
   "name": "python",
   "nbconvert_exporter": "python",
   "pygments_lexer": "ipython3",
   "version": "3.6.1"
  }
 },
 "nbformat": 4,
 "nbformat_minor": 2
}
