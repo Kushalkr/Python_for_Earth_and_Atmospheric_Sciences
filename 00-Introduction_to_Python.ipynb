{
 "cells": [
  {
   "cell_type": "markdown",
   "metadata": {
    "slideshow": {
     "slide_type": "slide"
    }
   },
   "source": [
    "# Python for Earth and Atmospheric Sciences\n",
    "-------------------------------------------------------------------\n",
    "\n",
    "Kushal Keshavamurthy Raviprakash\n",
    "\n",
    "kushalkr2992@gmail.com\n",
    "\n",
    "This notebook is a part of the [Python for Earth and Atmospheric Sciences](https://github.com/Kushalkr/Python_for_Earth_and_Atmospheric_Sciences) workshop."
   ]
  },
  {
   "cell_type": "markdown",
   "metadata": {
    "slideshow": {
     "slide_type": "slide"
    }
   },
   "source": [
    "# Why do we have to learn computer programming?\n",
    "-------------------------------------------------------------------\n",
    "To be nerdy or geeky and awesome at the same time. More often than not, we are!\n",
    "\n",
    "On a more serious note, we begin to answer this question by looking at the definitioin of programming first.\n",
    "\n",
    "## Definition of Programming: \n",
    "> **Computer Programming** (or **Programming** or **coding**) is the process of writing, testing, debugging and maintenance of a set of instructions that a computer can understand in a way that is convenient to humans.\n",
    "\n",
    "Basically, programming is used to make life easier and to let complex and repetitive tasks to be handled by computers."
   ]
  },
  {
   "cell_type": "markdown",
   "metadata": {
    "slideshow": {
     "slide_type": "subslide"
    }
   },
   "source": [
    "But, we can narrow down the need for programming to a few things:\n",
    "\n",
    "### 1. To Automate\n",
    "<img src=\"images/automation.png\" width=\"600\" />\n",
    "\n",
    "**The aim is to be as close to *theory* as possible and it is possible in some cases.**\n",
    "\n",
    "### 2. To perform repetitive tasks.\n",
    "\n",
    "### 3. To test scenarios without actually destroying stuff.\n",
    "\n",
    "### 4. To replicate and reproduce results. (this is essential for the scienctific community)"
   ]
  },
  {
   "cell_type": "markdown",
   "metadata": {
    "slideshow": {
     "slide_type": "slide"
    }
   },
   "source": [
    "-------------------------------------------------------------------\n",
    "# Why do Earth and Atmopsheric Scientists need programming skills?\n",
    "-------------------------------------------------------------------\n",
    "\n",
    "## Well, same reasons as above.\n",
    "\n",
    "### But here a few things we can do:\n",
    "* Obtain data quickly.\n",
    "* Manipulate, extract and operate on huge amounts of data.\n",
    "* Create smaller datasets from larger datasets.\n",
    "* Vizualize data\n",
    "* Present results of Analysis etc...($\\LaTeX$, web etc..)\n",
    "\n",
    "And we need to do all of the above efficiently. There is no software which does all of the required tasks perfectly. But, science is developing fast and so are tools that help science go further and in a more efficient way."
   ]
  },
  {
   "cell_type": "markdown",
   "metadata": {
    "slideshow": {
     "slide_type": "slide"
    }
   },
   "source": [
    "# What is Python?\n",
    "-------------------------------------------------------------------\n",
    "Python is a **modern**, **general-purpose**, **object-oriented**, **high-level** programming language."
   ]
  },
  {
   "cell_type": "markdown",
   "metadata": {
    "slideshow": {
     "slide_type": "fragment"
    }
   },
   "source": [
    "# Why Python?\n",
    "-------------------------------------------------------------------\n",
    "**Short version** : Python is ~~Awesome~~ versatile, open source (We love free stuff) and multiplatform.\n",
    "\n",
    "**Long version** : \n",
    "Python: \n",
    "- is a multi-paradigm programming language *(i.e procedural, scripting, fully object oriented and functional programming language)*\n",
    "- is an interpreted language.\n",
    "- has a robust set of data types.\n",
    "- has an easy to use syntax.\n",
    "- is platform-independent and open-source(*free*).\n",
    "- can also interface compiled languages such as C and FORTRAN."
   ]
  },
  {
   "cell_type": "markdown",
   "metadata": {
    "slideshow": {
     "slide_type": "slide"
    }
   },
   "source": [
    "# Overview\n",
    "-------------------------------------------------------------------\n",
    "\n",
    "<img src=\"images/Topics.svg\" height=\"400\" width=\"300\"/>"
   ]
  },
  {
   "cell_type": "markdown",
   "metadata": {
    "slideshow": {
     "slide_type": "skip"
    }
   },
   "source": [
    "In the next lecture, let us install python and test it."
   ]
  }
 ],
 "metadata": {
  "celltoolbar": "Slideshow",
  "kernelspec": {
   "display_name": "Python 3",
   "language": "python",
   "name": "python3"
  },
  "language_info": {
   "codemirror_mode": {
    "name": "ipython",
    "version": 3
   },
   "file_extension": ".py",
   "mimetype": "text/x-python",
   "name": "python",
   "nbconvert_exporter": "python",
   "pygments_lexer": "ipython3",
   "version": "3.6.1"
  }
 },
 "nbformat": 4,
 "nbformat_minor": 2
}
