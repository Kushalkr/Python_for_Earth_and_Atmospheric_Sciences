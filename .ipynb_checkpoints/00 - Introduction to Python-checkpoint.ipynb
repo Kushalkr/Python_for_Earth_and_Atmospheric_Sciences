{
 "cells": [
  {
   "cell_type": "markdown",
   "metadata": {},
   "source": [
    "# Introduction"
   ]
  },
  {
   "cell_type": "markdown",
   "metadata": {},
   "source": [
    "## Installing Python"
   ]
  },
  {
   "cell_type": "markdown",
   "metadata": {},
   "source": [
    "* Download and install the **Python 3.6** version of [Miniconda](https://conda.io/miniconda.html) for the appropriate Operating system you have by following the instructions there.\n",
    "* Once miniconda is installed, enter the following command:\n",
    "```bash\n",
    "conda install -c conda-forge numpy scipy numexpr scikit-learn sympy \\\n",
    "pandas matplotlib basemap netcdf4 hdf5 cython ipython notebook nomkl mpi4py\n",
    "```\n"
   ]
  },
  {
   "cell_type": "code",
   "execution_count": 1,
   "metadata": {
    "scrolled": false
   },
   "outputs": [
    {
     "name": "stdout",
     "output_type": "stream",
     "text": [
      "Fetching package metadata .........\n",
      "Solving package specifications: ..........\n",
      "\n",
      "Package plan for installation in environment /Users/kushal/Downloads/Analysis_tools/miniconda2/envs/tutorialenv:\n",
      "\n",
      "The following packages will be downloaded:\n",
      "\n",
      "    package                    |            build\n",
      "    ---------------------------|-----------------\n",
      "    sympy-1.0                  |           py36_0         6.4 MB  conda-forge\n",
      "    pandas-0.20.1              |      np112py36_0         9.9 MB  conda-forge\n",
      "    basemap-1.1.0              |      np112py36_0        15.2 MB  conda-forge\n",
      "    ------------------------------------------------------------\n",
      "                                           Total:        31.6 MB\n",
      "\n",
      "The following NEW packages will be INSTALLED:\n",
      "\n",
      "    fastcache: 1.0.2-py36_1                       \n",
      "    mpi4py:    2.0.0-py36_2            conda-forge\n",
      "    mpich:     3.2-4                   conda-forge\n",
      "    mpmath:    0.19-py36_2             conda-forge\n",
      "    sympy:     1.0-py36_0              conda-forge\n",
      "\n",
      "The following packages will be UPDATED:\n",
      "\n",
      "    basemap:   1.0.8.dev0-np112py36_3  conda-forge --> 1.1.0-np112py36_0  conda-forge\n",
      "    pandas:    0.19.2-np112py36_1      conda-forge --> 0.20.1-np112py36_0 conda-forge\n",
      "\n",
      "The following packages will be SUPERCEDED by a higher-priority channel:\n",
      "\n",
      "    numexpr:   2.6.2-np112py36_nomkl_0             [nomkl] --> 2.6.2-np112py36_0  conda-forge\n",
      "\n",
      "Proceed ([y]/n)? \n",
      "Fetching packages ...\n",
      "Exceeded max retries, giving up\n",
      "\n",
      "LockError: Lock error: Already locked: Lock error: \n",
      "LOCKERROR: It looks like conda is already doing something.\n",
      "The lock [u'/Users/kushal/Downloads/Analysis_tools/miniconda2/pkgs/sympy-1.0-py36_0.tar.bz2.pid68752.conda_lock'] was found. Wait for it to finish before continuing.\n",
      "If you are sure that conda is not running, remove it and try again.\n",
      "You can also use: $ conda clean --lock\n",
      "\n",
      "\n",
      "\n"
     ]
    }
   ],
   "source": [
    "!conda install -c conda-forge numpy scipy numexpr scikit-learn \\\n",
    "sympy pandas matplotlib basemap netcdf4 hdf5 cython ipython notebook nomkl mpi4py << y"
   ]
  },
  {
   "cell_type": "markdown",
   "metadata": {},
   "source": []
  }
 ],
 "metadata": {
  "kernelspec": {
   "display_name": "Python 3",
   "language": "python",
   "name": "python3"
  },
  "language_info": {
   "codemirror_mode": {
    "name": "ipython",
    "version": 3
   },
   "file_extension": ".py",
   "mimetype": "text/x-python",
   "name": "python",
   "nbconvert_exporter": "python",
   "pygments_lexer": "ipython3",
   "version": "3.6.1"
  }
 },
 "nbformat": 4,
 "nbformat_minor": 2
}
